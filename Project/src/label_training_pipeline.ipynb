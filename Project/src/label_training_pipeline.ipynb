{
  "cells": [
    {
      "cell_type": "code",
      "execution_count": null,
      "metadata": {
        "id": "x1oWzMJpfKmt"
      },
      "outputs": [],
      "source": [
        "# Training and validating pipeline for the QSM 3D segmentation project \n",
        "# Course: cs512\n",
        "# instructor: Gady Agam\n",
        "# Group 1: \n",
        "# Rasheed Abid, rabid@hawk.iit.edu\n",
        "# Khalid Saifullah, ksaifullah@hawk.iit.edu"
      ]
    },
    {
      "cell_type": "code",
      "execution_count": null,
      "metadata": {},
      "outputs": [],
      "source": [
        "# This is the training portion of our code. \n",
        "# As we are unable to upload the dataset, we are providing with the fully training model, with all it's output. \n",
        "# The model is also saved in the folder \"saved_models\""
      ]
    },
    {
      "cell_type": "code",
      "execution_count": null,
      "metadata": {
        "colab": {
          "base_uri": "https://localhost:8080/"
        },
        "id": "Snh1UbW2fKmw",
        "outputId": "e94665e3-18f9-4bd1-d5b4-7c94638fd170"
      },
      "outputs": [
        {
          "name": "stdout",
          "output_type": "stream",
          "text": [
            "Looking in indexes: https://pypi.org/simple, https://us-python.pkg.dev/colab-wheels/public/simple/\n",
            "Requirement already satisfied: patchify in /usr/local/lib/python3.9/dist-packages (0.2.3)\n",
            "Requirement already satisfied: numpy<2,>=1 in /usr/local/lib/python3.9/dist-packages (from patchify) (1.22.4)\n"
          ]
        }
      ],
      "source": [
        "# installations if required\n",
        "!pip install SimpleITK\n",
        "!pip install patchify\n",
        "!pip install nibabel"
      ]
    },
    {
      "cell_type": "code",
      "execution_count": null,
      "metadata": {
        "colab": {
          "base_uri": "https://localhost:8080/"
        },
        "id": "1AlJ_fpd8scE",
        "outputId": "726f7f5c-8af7-43cb-cb87-cae36349935f"
      },
      "outputs": [
        {
          "name": "stdout",
          "output_type": "stream",
          "text": [
            "Tensorflow version = 2.12.0\n",
            "Keras version = 2.12.0\n"
          ]
        }
      ],
      "source": [
        "# imports\n",
        "import os\n",
        "import numpy as np\n",
        "import nibabel as nib\n",
        "from matplotlib import pyplot as plt\n",
        "\n",
        "from skimage import io\n",
        "from sklearn.model_selection import train_test_split\n",
        "\n",
        "from patchify import patchify, unpatchify\n",
        "\n",
        "import tensorflow as tf\n",
        "from tensorflow.keras.utils import to_categorical\n",
        "import keras\n",
        "from keras import backend as K\n",
        "from keras.models import Model\n",
        "from keras.layers import Input, Conv3D, MaxPooling3D, UpSampling3D, concatenate, Conv3DTranspose, BatchNormalization, Dropout, Lambda\n",
        "from keras.optimizers import Adam\n",
        "from keras.layers import Activation, Concatenate, add, Input, BatchNormalization\n",
        "\n",
        "print(\"Tensorflow version = \" + tf.__version__)\n",
        "print(\"Keras version = \" + keras.__version__)\n",
        "\n",
        "import os\n",
        "import nibabel as nib\n",
        "from skimage import io\n",
        "from patchify import patchify, unpatchify\n",
        "import numpy as np\n",
        "from matplotlib import pyplot as plt\n",
        "from keras import backend as K\n",
        "from tensorflow.keras.utils import to_categorical\n",
        "from sklearn.model_selection import train_test_split\n"
      ]
    },
    {
      "cell_type": "code",
      "execution_count": null,
      "metadata": {
        "colab": {
          "base_uri": "https://localhost:8080/"
        },
        "id": "Q6L3eZwk86Yr",
        "outputId": "88d40b60-cd82-4505-e867-f2911341908a"
      },
      "outputs": [
        {
          "name": "stdout",
          "output_type": "stream",
          "text": [
            "Drive already mounted at /content/drive; to attempt to forcibly remount, call drive.mount(\"/content/drive\", force_remount=True).\n"
          ]
        }
      ],
      "source": [
        "# incase of running on google colab\n",
        "from google.colab import drive\n",
        "drive.mount('/content/drive')"
      ]
    },
    {
      "cell_type": "code",
      "execution_count": null,
      "metadata": {
        "id": "cb9rArVPfKmy"
      },
      "outputs": [],
      "source": [
        "# changing variables # this is the only section that needs to be changed for trainging. \n",
        "# As we had many different files and numbers we had these numbers available. All these numbers are not availble during testing phases, only a subset of it.\n",
        "\n",
        "\n",
        "maindir = \"/Users/rashid_abid/Desktop/CS512_Computer_Vision/Project_proposal/final_project_draft2\"\n",
        "subject_num = 80 # available ones are 32, 64, 80, 100\n",
        "subject_num_testing = 20 # available ones are 9, 20\n",
        "label_name = \"amygdala\" # available ones are \"amygdala\", \"caudate\", \"hippocampus\", \"putamen\", \"thalamus\"\n",
        "epochs = 50\n",
        "dim = 128\n",
        "n_classes = 1\n",
        "model_to_run = \"unet\" # available ones are \"res_unet\" and \"unet\"\n",
        "\n",
        "# architecture parameters\n",
        "patch_size = 64 # testing with 64x64x64 patches\n",
        "channels=1\n",
        "\n",
        "LR = 0.0001 # Learning rate\n",
        "optim = keras.optimizers.Adam(LR)"
      ]
    },
    {
      "cell_type": "code",
      "execution_count": null,
      "metadata": {
        "id": "FO_niA3cfKmy"
      },
      "outputs": [],
      "source": [
        "# directories \n",
        "\n",
        "os.chdir( maindir )\n",
        "source_dir = os.path.join(maindir, \"data_dir\")\n",
        "results_dir = os.path.join(maindir, \"results_dir\")\n",
        "files_dir = os.path.join(maindir, \"files\")\n",
        "scripts_dir = os.path.join(maindir, \"scripts\")"
      ]
    },
    {
      "cell_type": "code",
      "execution_count": null,
      "metadata": {
        "colab": {
          "base_uri": "https://localhost:8080/"
        },
        "id": "je1WviY89M2I",
        "outputId": "97a8a9b7-e618-4a40-e810-a1ea5a0a8c8a"
      },
      "outputs": [
        {
          "name": "stdout",
          "output_type": "stream",
          "text": [
            "/content/drive/MyDrive/Colab Notebooks/CS512/project/results_dir/saved_models/brain_mask_mask_dim128_sub80_e50_checking_new_model_.h5\n"
          ]
        }
      ],
      "source": [
        "# file names\n",
        "saved_model_name = label_name + \"_mask_dim\" + str(dim) + \"_sub\" + str(subject_num) + \"_e\" + str(epochs) + \".h5\"\n",
        "saved_model_name = os.path.join(results_dir, \"saved_models\", saved_model_name)\n",
        "\n",
        "subject_filename = \"filename_sub\" + str(subject_num) + \".txt\"\n",
        "filename = os.path.join(files_dir, subject_filename)\n",
        "\n",
        "# check if the folder exists\n",
        "if not os.path.exists(os.path.join(results_dir, \"saved_models\") ):\n",
        "    os.makedirs(os.path.join(results_dir, \"saved_models\") )\n",
        "\n",
        "print(\"Model will be saved in:\\n\" + saved_model_name)"
      ]
    },
    {
      "cell_type": "code",
      "execution_count": null,
      "metadata": {
        "colab": {
          "base_uri": "https://localhost:8080/"
        },
        "id": "haMxMrXWfKmz",
        "outputId": "f4783d35-84b9-4223-af3f-c592e4de61ae"
      },
      "outputs": [
        {
          "name": "stdout",
          "output_type": "stream",
          "text": [
            "Suffix for the files is = 4\n"
          ]
        }
      ],
      "source": [
        "# suffix selection for images\n",
        "if dim == 256:\n",
        "    Suffix = 2\n",
        "elif dim ==  128:\n",
        "    Suffix = 4\n",
        "else:\n",
        "    Suffix = 8\n",
        "\n",
        "print( \"Suffix for the files is = %d\" %Suffix )"
      ]
    },
    {
      "cell_type": "code",
      "execution_count": null,
      "metadata": {
        "id": "R6MVGI49fKm0"
      },
      "outputs": [],
      "source": [
        "# Generate a unet with skip connections for our model\n",
        "\n",
        "\n",
        "def conv_block(input, num_filters):\n",
        "    x = Conv3D(num_filters, 3, padding=\"same\")(input)\n",
        "    x = BatchNormalization()(x)   #Not in the original network. \n",
        "    x = Activation(\"relu\")(x)\n",
        "    return x\n",
        "\n",
        "#Encoder block:\n",
        "def encoder_block(input, num_filters):\n",
        "    x = conv_block(input, num_filters)\n",
        "    p = MaxPooling3D((2, 2, 2))(x)\n",
        "    return x, p   \n",
        "\n",
        "#Decoder block\n",
        "#skip features gets input from encoder for concatenation\n",
        "def decoder_block(input, skip_features, num_filters):\n",
        "    x = Conv3DTranspose(num_filters, (2, 2, 2), strides=2, padding=\"same\")(input)\n",
        "    x = Concatenate()([x, skip_features])\n",
        "    x = conv_block(x, num_filters)\n",
        "    return x\n",
        "\n",
        "#Build Unet using the blocks\n",
        "def build_unet(input_shape, n_classes):\n",
        "    inputs = Input(input_shape)\n",
        "\n",
        "    s1, p1 = encoder_block(inputs, 32)\n",
        "    s2, p2 = encoder_block(p1, 64)\n",
        "    s3, p3 = encoder_block(p2, 128)\n",
        "    s4, p4 = encoder_block(p3, 256)\n",
        "\n",
        "    b1 = conv_block(p4, 512) # Bridge\n",
        "\n",
        "    d1 = decoder_block(b1, s4, 512)\n",
        "    d2 = decoder_block(d1, s3, 256)\n",
        "    d3 = decoder_block(d2, s2, 128)\n",
        "    d4 = decoder_block(d3, s1, 64)\n",
        "    \n",
        "    f1 = conv_block(d4, 32)\n",
        "    \n",
        "    if n_classes == 1:  # For singular mask checking\n",
        "      activation = 'sigmoid'\n",
        "    else: # for multilevel label checking\n",
        "      activation = 'softmax'\n",
        "\n",
        "    outputs = Conv3D(n_classes, 1, padding=\"same\", activation=activation)(f1)  #Change the activation based on n_classes\n",
        "    print(activation)\n",
        "\n",
        "    model = Model(inputs, outputs, name=\"UNet\")\n",
        "    return model"
      ]
    },
    {
      "cell_type": "code",
      "execution_count": null,
      "metadata": {
        "id": "KrWoXFoZfKm1"
      },
      "outputs": [],
      "source": [
        "def res_block(x, nb_filters, strides):\n",
        "    res_path = BatchNormalization()(x)\n",
        "    res_path = Activation(activation='relu')(res_path)\n",
        "    res_path = Conv3D(filters=nb_filters[0], kernel_size=(3, 3, 3), padding=\"same\", strides=strides[0])(res_path)\n",
        "    res_path = BatchNormalization()(res_path)\n",
        "    res_path = Activation(activation='relu')(res_path)\n",
        "    res_path = Conv3D(filters=nb_filters[1], kernel_size=(3, 3, 3), padding=\"same\", strides=strides[1])(res_path)\n",
        "\n",
        "    shortcut = Conv3D(nb_filters[1], kernel_size=(1, 1, 1), strides=strides[0])(x)\n",
        "    shortcut = BatchNormalization()(shortcut)\n",
        "\n",
        "    res_path = add([shortcut, res_path])\n",
        "    return res_path\n",
        "\n",
        "\n",
        "def encoder(x):\n",
        "    to_decoder = []\n",
        "\n",
        "    main_path = Conv3D(filters=64, kernel_size=(3, 3, 3), padding=\"same\", strides=(1, 1, 1))(x)\n",
        "    main_path = BatchNormalization()(main_path)\n",
        "    main_path = Activation(activation='relu')(main_path)\n",
        "\n",
        "    main_path = Conv3D(filters=64, kernel_size=(3, 3, 3), padding=\"same\", strides=(1, 1, 1))(main_path)\n",
        "\n",
        "    shortcut = Conv3D(filters=64, kernel_size=(1, 1, 1), strides=(1, 1, 1))(x)\n",
        "    shortcut = BatchNormalization()(shortcut)\n",
        "\n",
        "    main_path = add([shortcut, main_path])\n",
        "    \n",
        "    # first branching to decoder\n",
        "    to_decoder.append(main_path)\n",
        "\n",
        "    main_path = res_block(main_path, [128, 128], [(2, 2, 2), (1, 1, 1)])\n",
        "    to_decoder.append(main_path)\n",
        "\n",
        "    main_path = res_block(main_path, [256, 256], [(2, 2, 2), (1, 1, 1)])\n",
        "    to_decoder.append(main_path)\n",
        "\n",
        "    return to_decoder\n",
        "\n",
        "\n",
        "def decoder(x, from_encoder):\n",
        "    main_path = UpSampling3D(size=(2, 2, 2))(x)\n",
        "    main_path = concatenate([main_path, from_encoder[2]])\n",
        "    main_path = res_block(main_path, [256, 256], [(1, 1, 1), (1, 1, 1)])\n",
        "\n",
        "    main_path = UpSampling3D(size=(2, 2, 2))(main_path)\n",
        "    main_path = concatenate([main_path, from_encoder[1]])\n",
        "    main_path = res_block(main_path, [128, 128], [(1, 1, 1), (1, 1, 1)])\n",
        "\n",
        "    main_path = UpSampling3D(size=(2, 2, 2))(main_path)\n",
        "    main_path = concatenate([main_path, from_encoder[0]])\n",
        "    main_path = res_block(main_path, [64, 64], [(1, 1, 1), (1, 1, 1)])\n",
        "\n",
        "    return main_path\n",
        "\n",
        "\n",
        "def build_res_unet(input_shape, n_classes):\n",
        "    inputs = Input(shape=input_shape)\n",
        "\n",
        "    to_decoder = encoder(inputs)\n",
        "\n",
        "    path = res_block(to_decoder[2], [512, 512], [(2, 2, 2), (1, 1, 1)])\n",
        "\n",
        "    path = decoder(path, from_encoder=to_decoder)\n",
        "\n",
        "    path = Conv3D(filters=n_classes, kernel_size=(1, 1, 1), activation='sigmoid')(path)\n",
        "\n",
        "    return Model(inputs, path)"
      ]
    },
    {
      "cell_type": "code",
      "execution_count": null,
      "metadata": {
        "colab": {
          "base_uri": "https://localhost:8080/"
        },
        "id": "lbpFqwQsfKm1",
        "outputId": "3024a454-5431-4a73-c9ee-e8f3fe814259"
      },
      "outputs": [
        {
          "name": "stdout",
          "output_type": "stream",
          "text": [
            "Found GPU at: /device:GPU:0\n"
          ]
        }
      ],
      "source": [
        "# Make sure the GPU is available. \n",
        "import tensorflow as tf\n",
        "device_name = tf.test.gpu_device_name()\n",
        "if device_name != '/device:GPU:0':\n",
        "  raise SystemError('GPU device not found')\n",
        "print('Found GPU at: {}'.format(device_name))"
      ]
    },
    {
      "cell_type": "code",
      "execution_count": null,
      "metadata": {
        "id": "td6Df30tfKm1"
      },
      "outputs": [],
      "source": [
        "# function to normalize the nifti data once converted to numpy array, and then multiply by the mask\n",
        "# of the brain\n",
        "\n",
        "def norm_nifti(img, brain_mask_data=None):\n",
        "    # We are normalizing the data to be between 0 and 1\n",
        "    min_value = np.min(img)\n",
        "    max_value = np.max(img)\n",
        "    normalized_data = (img - min_value) / (max_value - min_value)\n",
        "    \n",
        "    # We are multiplying the normalized data by the brain mask\n",
        "    if brain_mask_data is not None:\n",
        "        normalized_data = normalized_data * brain_mask_data\n",
        "    \n",
        "    return normalized_data"
      ]
    },
    {
      "cell_type": "code",
      "execution_count": null,
      "metadata": {
        "colab": {
          "base_uri": "https://localhost:8080/"
        },
        "id": "gtVaeYYQfKm2",
        "outputId": "db82e13e-8a3b-4785-d677-5dc2012d41d2"
      },
      "outputs": [
        {
          "name": "stdout",
          "output_type": "stream",
          "text": [
            "Currently processing subject number: 0\n",
            "Currently processing subject number: 1\n",
            "Currently processing subject number: 2\n",
            "Currently processing subject number: 3\n",
            "Currently processing subject number: 4\n",
            "Currently processing subject number: 5\n",
            "Currently processing subject number: 6\n",
            "Currently processing subject number: 7\n",
            "Currently processing subject number: 8\n",
            "Currently processing subject number: 9\n",
            "Currently processing subject number: 10\n",
            "Currently processing subject number: 11\n",
            "Currently processing subject number: 12\n",
            "Currently processing subject number: 13\n",
            "Currently processing subject number: 14\n",
            "Currently processing subject number: 15\n",
            "Currently processing subject number: 16\n",
            "Currently processing subject number: 17\n",
            "Currently processing subject number: 18\n",
            "Currently processing subject number: 19\n",
            "Currently processing subject number: 20\n",
            "Currently processing subject number: 21\n",
            "Currently processing subject number: 22\n",
            "Currently processing subject number: 23\n",
            "Currently processing subject number: 24\n",
            "Currently processing subject number: 25\n",
            "Currently processing subject number: 26\n",
            "Currently processing subject number: 27\n",
            "Currently processing subject number: 28\n",
            "Currently processing subject number: 29\n",
            "Currently processing subject number: 30\n",
            "Currently processing subject number: 31\n",
            "Currently processing subject number: 32\n",
            "Currently processing subject number: 33\n",
            "Currently processing subject number: 34\n",
            "Currently processing subject number: 35\n",
            "Currently processing subject number: 36\n",
            "Currently processing subject number: 37\n",
            "Currently processing subject number: 38\n",
            "Currently processing subject number: 39\n",
            "Currently processing subject number: 40\n",
            "Currently processing subject number: 41\n",
            "Currently processing subject number: 42\n",
            "Currently processing subject number: 43\n",
            "Currently processing subject number: 44\n",
            "Currently processing subject number: 45\n",
            "Currently processing subject number: 46\n",
            "Currently processing subject number: 47\n",
            "Currently processing subject number: 48\n",
            "Currently processing subject number: 49\n",
            "Currently processing subject number: 50\n",
            "Currently processing subject number: 51\n",
            "Currently processing subject number: 52\n",
            "Currently processing subject number: 53\n",
            "Currently processing subject number: 54\n",
            "Currently processing subject number: 55\n",
            "Currently processing subject number: 56\n",
            "Currently processing subject number: 57\n",
            "Currently processing subject number: 58\n",
            "Currently processing subject number: 59\n",
            "Currently processing subject number: 60\n",
            "Currently processing subject number: 61\n",
            "Currently processing subject number: 62\n",
            "Currently processing subject number: 63\n",
            "Currently processing subject number: 64\n",
            "Currently processing subject number: 65\n",
            "Currently processing subject number: 66\n",
            "Currently processing subject number: 67\n",
            "Currently processing subject number: 68\n",
            "Currently processing subject number: 69\n",
            "Currently processing subject number: 70\n",
            "Currently processing subject number: 71\n",
            "Currently processing subject number: 72\n",
            "Currently processing subject number: 73\n",
            "Currently processing subject number: 74\n",
            "Currently processing subject number: 75\n",
            "Currently processing subject number: 76\n",
            "Currently processing subject number: 77\n",
            "Currently processing subject number: 78\n",
            "Currently processing subject number: 79\n"
          ]
        }
      ],
      "source": [
        "filename = filename\n",
        "\n",
        "# initialize lists to store the patches\n",
        "all_img_patches = []\n",
        "all_mask_patches = []\n",
        "val=0\n",
        "\n",
        "with open(filename) as f:\n",
        "    for line in f:\n",
        "        print(\"Currently processing subject number: %d\" %val)\n",
        "        val=val+1\n",
        "        subject_id = line.strip()\n",
        "\n",
        "\n",
        "        # read filenames\n",
        "        imagename = os.path.join(source_dir, \"sub\"+ str(subject_id), \"QSM_masked_dim\" + str(dim) + \".nii.gz\") # even though the name says mask, the files are original QSM images\n",
        "        maskname = os.path.join(source_dir, \"sub\"+ str(subject_id), label_name + \"_dim\" + str(dim) + \".nii.gz\") # this is the mask for the hippocampus or any other labels selected\n",
        "        brain_mask_name = os.path.join(source_dir, \"sub\"+ str(subject_id), \"QSM_brain_mask_dim\" + str(dim) + \".nii.gz\") # this is the brain mask of the brain\n",
        "\n",
        "\n",
        "        if not (os.path.exists(imagename) and os.path.exists(maskname) and os.path.exists(brain_mask_name) ):\n",
        "            print(\"Some files are missing\")\n",
        "        \n",
        "        # Read images\n",
        "        img = nib.load(imagename)\n",
        "        img_data = img.get_fdata().astype(np.float32)\n",
        "        \n",
        "        # Read mask\n",
        "        mask = nib.load(maskname)\n",
        "        mask_data = mask.get_fdata().astype(np.float32)\n",
        "\n",
        "        # Read brain mask\n",
        "        brain_mask = nib.load(brain_mask_name)\n",
        "        brain_mask_data = brain_mask.get_fdata().astype(np.float32)\n",
        "        \n",
        "\n",
        "        #Normalise using the function we wrote\n",
        "        # img_data = norm_nifti(img_data) # if you don't want to use the brain mask\n",
        "        img_data = norm_nifti(img_data, brain_mask_data) # if you want to use the brain mask   \n",
        "             \n",
        "\n",
        "        #Patchify the image and mask\n",
        "        patches_img = patchify(img_data, (patch_size, patch_size, patch_size), step=64)  # Step=256 for 256 patches means no overlap\n",
        "        patches_mask = patchify(mask_data, (patch_size, patch_size, patch_size), step=64)  # Step=256 for 256 patches means no overlap\n",
        "        \n",
        "\n",
        "        for i in range(patches_img.shape[0]):\n",
        "            for j in range(patches_img.shape[1]):\n",
        "                for k in range(patches_img.shape[2]):\n",
        "                    \n",
        "                    #image\n",
        "                    single_patch_img = patches_img[i,j,k,:,:,:]\n",
        "                    all_img_patches.append(single_patch_img)\n",
        "                    \n",
        "                    #mask\n",
        "                    single_patch_mask = patches_mask[i,j,k,:,:,:]\n",
        "                    all_mask_patches.append(single_patch_mask)\n",
        "        # image stacking \n",
        "        all_patched_stacked_images = np.array(all_img_patches)\n",
        "        # mask stacking\n",
        "        all_patched_stacked_masks = np.array(all_mask_patches)\n"
      ]
    },
    {
      "cell_type": "code",
      "execution_count": null,
      "metadata": {
        "colab": {
          "base_uri": "https://localhost:8080/"
        },
        "id": "X1iuqCSDfKm2",
        "outputId": "b04bdfc6-11f0-4fe3-fc88-fb0ac6d2412a"
      },
      "outputs": [
        {
          "name": "stdout",
          "output_type": "stream",
          "text": [
            "(640, 64, 64, 64)\n",
            "(640, 64, 64, 64)\n"
          ]
        }
      ],
      "source": [
        "# check the shapes\n",
        "print(all_patched_stacked_images.shape)\n",
        "print(all_patched_stacked_masks.shape)"
      ]
    },
    {
      "cell_type": "code",
      "execution_count": null,
      "metadata": {
        "id": "z-MVJVBvfKm2"
      },
      "outputs": [],
      "source": [
        "training_images = all_patched_stacked_images\n",
        "training_masks = all_patched_stacked_masks\n",
        "\n",
        "# train_test_split at 30%\n",
        "# Here X_test and y_test are actually validation data\n",
        "X_train, X_test, y_train, y_test = train_test_split(training_images, training_masks, test_size=0.3, random_state=0)"
      ]
    },
    {
      "cell_type": "code",
      "execution_count": null,
      "metadata": {
        "id": "1FkmJlqKfKm3"
      },
      "outputs": [],
      "source": [
        "# Loss functions and dice metrics\n",
        "# both for binary and multiclass segmentation\n",
        "def dice_coef(y_true, y_pred):\n",
        "    y_true_f = K.flatten(y_true)\n",
        "    y_pred_f = K.flatten(y_pred)\n",
        "    smoothing_factor = 1 # to avoid division by zero\n",
        "    \n",
        "    intersection = K.sum(y_true_f * y_pred_f)\n",
        "    union = K.sum(y_true_f) + K.sum(y_pred_f)\n",
        "    dice = (2. * intersection + smoothing_factor) / (union + smoothing_factor)\n",
        "    return dice\n",
        "\n",
        "def dice_coef_loss(y_true, y_pred):\n",
        "    return 1 - dice_coef(y_true, y_pred)\n",
        "\n",
        "def dice_coef_multilabel(y_true, y_pred, numLabels=1):\n",
        "    dice=0\n",
        "    for index in range(numLabels):\n",
        "        dice -= dice_coef(y_true[...,index], y_pred[...,index])\n",
        "    return dice/numLabels\n"
      ]
    },
    {
      "cell_type": "code",
      "execution_count": null,
      "metadata": {
        "colab": {
          "base_uri": "https://localhost:8080/"
        },
        "id": "swJV3zBQfKm3",
        "outputId": "4c628224-d8ad-4e8c-9d78-e15f143a34fa"
      },
      "outputs": [
        {
          "name": "stdout",
          "output_type": "stream",
          "text": [
            "sigmoid\n"
          ]
        }
      ],
      "source": [
        "if model_to_run == \"unet\":\n",
        "    model = build_unet((patch_size, patch_size, patch_size, channels), n_classes=n_classes)\n",
        "elif model_to_run == \"res_unet\":\n",
        "    model = build_res_unet((patch_size, patch_size, patch_size, channels), n_classes=n_classes)\n",
        "else:\n",
        "    print(\"Please choose a valid model. Available models are: unet, res_unet\")"
      ]
    },
    {
      "cell_type": "code",
      "execution_count": null,
      "metadata": {
        "colab": {
          "base_uri": "https://localhost:8080/"
        },
        "id": "6q1EMTvwfKm3",
        "outputId": "c3d0aeae-5ec4-40b6-8acc-c22f2d570524"
      },
      "outputs": [
        {
          "name": "stdout",
          "output_type": "stream",
          "text": [
            "Model: \"UNet\"\n",
            "__________________________________________________________________________________________________\n",
            " Layer (type)                   Output Shape         Param #     Connected to                     \n",
            "==================================================================================================\n",
            " input_1 (InputLayer)           [(None, 64, 64, 64,  0           []                               \n",
            "                                 1)]                                                              \n",
            "                                                                                                  \n",
            " conv3d (Conv3D)                (None, 64, 64, 64,   896         ['input_1[0][0]']                \n",
            "                                32)                                                               \n",
            "                                                                                                  \n",
            " batch_normalization (BatchNorm  (None, 64, 64, 64,   128        ['conv3d[0][0]']                 \n",
            " alization)                     32)                                                               \n",
            "                                                                                                  \n",
            " activation (Activation)        (None, 64, 64, 64,   0           ['batch_normalization[0][0]']    \n",
            "                                32)                                                               \n",
            "                                                                                                  \n",
            " max_pooling3d (MaxPooling3D)   (None, 32, 32, 32,   0           ['activation[0][0]']             \n",
            "                                32)                                                               \n",
            "                                                                                                  \n",
            " conv3d_1 (Conv3D)              (None, 32, 32, 32,   55360       ['max_pooling3d[0][0]']          \n",
            "                                64)                                                               \n",
            "                                                                                                  \n",
            " batch_normalization_1 (BatchNo  (None, 32, 32, 32,   256        ['conv3d_1[0][0]']               \n",
            " rmalization)                   64)                                                               \n",
            "                                                                                                  \n",
            " activation_1 (Activation)      (None, 32, 32, 32,   0           ['batch_normalization_1[0][0]']  \n",
            "                                64)                                                               \n",
            "                                                                                                  \n",
            " max_pooling3d_1 (MaxPooling3D)  (None, 16, 16, 16,   0          ['activation_1[0][0]']           \n",
            "                                64)                                                               \n",
            "                                                                                                  \n",
            " conv3d_2 (Conv3D)              (None, 16, 16, 16,   221312      ['max_pooling3d_1[0][0]']        \n",
            "                                128)                                                              \n",
            "                                                                                                  \n",
            " batch_normalization_2 (BatchNo  (None, 16, 16, 16,   512        ['conv3d_2[0][0]']               \n",
            " rmalization)                   128)                                                              \n",
            "                                                                                                  \n",
            " activation_2 (Activation)      (None, 16, 16, 16,   0           ['batch_normalization_2[0][0]']  \n",
            "                                128)                                                              \n",
            "                                                                                                  \n",
            " max_pooling3d_2 (MaxPooling3D)  (None, 8, 8, 8, 128  0          ['activation_2[0][0]']           \n",
            "                                )                                                                 \n",
            "                                                                                                  \n",
            " conv3d_3 (Conv3D)              (None, 8, 8, 8, 256  884992      ['max_pooling3d_2[0][0]']        \n",
            "                                )                                                                 \n",
            "                                                                                                  \n",
            " batch_normalization_3 (BatchNo  (None, 8, 8, 8, 256  1024       ['conv3d_3[0][0]']               \n",
            " rmalization)                   )                                                                 \n",
            "                                                                                                  \n",
            " activation_3 (Activation)      (None, 8, 8, 8, 256  0           ['batch_normalization_3[0][0]']  \n",
            "                                )                                                                 \n",
            "                                                                                                  \n",
            " max_pooling3d_3 (MaxPooling3D)  (None, 4, 4, 4, 256  0          ['activation_3[0][0]']           \n",
            "                                )                                                                 \n",
            "                                                                                                  \n",
            " conv3d_4 (Conv3D)              (None, 4, 4, 4, 512  3539456     ['max_pooling3d_3[0][0]']        \n",
            "                                )                                                                 \n",
            "                                                                                                  \n",
            " batch_normalization_4 (BatchNo  (None, 4, 4, 4, 512  2048       ['conv3d_4[0][0]']               \n",
            " rmalization)                   )                                                                 \n",
            "                                                                                                  \n",
            " activation_4 (Activation)      (None, 4, 4, 4, 512  0           ['batch_normalization_4[0][0]']  \n",
            "                                )                                                                 \n",
            "                                                                                                  \n",
            " conv3d_transpose (Conv3DTransp  (None, 8, 8, 8, 512  2097664    ['activation_4[0][0]']           \n",
            " ose)                           )                                                                 \n",
            "                                                                                                  \n",
            " concatenate (Concatenate)      (None, 8, 8, 8, 768  0           ['conv3d_transpose[0][0]',       \n",
            "                                )                                 'activation_3[0][0]']           \n",
            "                                                                                                  \n",
            " conv3d_5 (Conv3D)              (None, 8, 8, 8, 512  10617344    ['concatenate[0][0]']            \n",
            "                                )                                                                 \n",
            "                                                                                                  \n",
            " batch_normalization_5 (BatchNo  (None, 8, 8, 8, 512  2048       ['conv3d_5[0][0]']               \n",
            " rmalization)                   )                                                                 \n",
            "                                                                                                  \n",
            " activation_5 (Activation)      (None, 8, 8, 8, 512  0           ['batch_normalization_5[0][0]']  \n",
            "                                )                                                                 \n",
            "                                                                                                  \n",
            " conv3d_transpose_1 (Conv3DTran  (None, 16, 16, 16,   1048832    ['activation_5[0][0]']           \n",
            " spose)                         256)                                                              \n",
            "                                                                                                  \n",
            " concatenate_1 (Concatenate)    (None, 16, 16, 16,   0           ['conv3d_transpose_1[0][0]',     \n",
            "                                384)                              'activation_2[0][0]']           \n",
            "                                                                                                  \n",
            " conv3d_6 (Conv3D)              (None, 16, 16, 16,   2654464     ['concatenate_1[0][0]']          \n",
            "                                256)                                                              \n",
            "                                                                                                  \n",
            " batch_normalization_6 (BatchNo  (None, 16, 16, 16,   1024       ['conv3d_6[0][0]']               \n",
            " rmalization)                   256)                                                              \n",
            "                                                                                                  \n",
            " activation_6 (Activation)      (None, 16, 16, 16,   0           ['batch_normalization_6[0][0]']  \n",
            "                                256)                                                              \n",
            "                                                                                                  \n",
            " conv3d_transpose_2 (Conv3DTran  (None, 32, 32, 32,   262272     ['activation_6[0][0]']           \n",
            " spose)                         128)                                                              \n",
            "                                                                                                  \n",
            " concatenate_2 (Concatenate)    (None, 32, 32, 32,   0           ['conv3d_transpose_2[0][0]',     \n",
            "                                192)                              'activation_1[0][0]']           \n",
            "                                                                                                  \n",
            " conv3d_7 (Conv3D)              (None, 32, 32, 32,   663680      ['concatenate_2[0][0]']          \n",
            "                                128)                                                              \n",
            "                                                                                                  \n",
            " batch_normalization_7 (BatchNo  (None, 32, 32, 32,   512        ['conv3d_7[0][0]']               \n",
            " rmalization)                   128)                                                              \n",
            "                                                                                                  \n",
            " activation_7 (Activation)      (None, 32, 32, 32,   0           ['batch_normalization_7[0][0]']  \n",
            "                                128)                                                              \n",
            "                                                                                                  \n",
            " conv3d_transpose_3 (Conv3DTran  (None, 64, 64, 64,   65600      ['activation_7[0][0]']           \n",
            " spose)                         64)                                                               \n",
            "                                                                                                  \n",
            " concatenate_3 (Concatenate)    (None, 64, 64, 64,   0           ['conv3d_transpose_3[0][0]',     \n",
            "                                96)                               'activation[0][0]']             \n",
            "                                                                                                  \n",
            " conv3d_8 (Conv3D)              (None, 64, 64, 64,   165952      ['concatenate_3[0][0]']          \n",
            "                                64)                                                               \n",
            "                                                                                                  \n",
            " batch_normalization_8 (BatchNo  (None, 64, 64, 64,   256        ['conv3d_8[0][0]']               \n",
            " rmalization)                   64)                                                               \n",
            "                                                                                                  \n",
            " activation_8 (Activation)      (None, 64, 64, 64,   0           ['batch_normalization_8[0][0]']  \n",
            "                                64)                                                               \n",
            "                                                                                                  \n",
            " conv3d_9 (Conv3D)              (None, 64, 64, 64,   55328       ['activation_8[0][0]']           \n",
            "                                32)                                                               \n",
            "                                                                                                  \n",
            " batch_normalization_9 (BatchNo  (None, 64, 64, 64,   128        ['conv3d_9[0][0]']               \n",
            " rmalization)                   32)                                                               \n",
            "                                                                                                  \n",
            " activation_9 (Activation)      (None, 64, 64, 64,   0           ['batch_normalization_9[0][0]']  \n",
            "                                32)                                                               \n",
            "                                                                                                  \n",
            " conv3d_10 (Conv3D)             (None, 64, 64, 64,   33          ['activation_9[0][0]']           \n",
            "                                1)                                                                \n",
            "                                                                                                  \n",
            "==================================================================================================\n",
            "Total params: 22,341,121\n",
            "Trainable params: 22,337,153\n",
            "Non-trainable params: 3,968\n",
            "__________________________________________________________________________________________________\n",
            "None\n"
          ]
        }
      ],
      "source": [
        "model.compile(optimizer=optim, loss=dice_coef_loss, metrics=[dice_coef])\n",
        "print( model.summary() )"
      ]
    },
    {
      "cell_type": "code",
      "execution_count": null,
      "metadata": {
        "colab": {
          "base_uri": "https://localhost:8080/"
        },
        "id": "hHc6S13nfKm3",
        "outputId": "337005b1-9886-4919-b1bb-85d00cb1f4bb"
      },
      "outputs": [
        {
          "name": "stdout",
          "output_type": "stream",
          "text": [
            "(None, 64, 64, 64, 1)\n",
            "(448, 64, 64, 64)\n",
            "(448, 64, 64, 64)\n",
            "(192, 64, 64, 64)\n",
            "(192, 64, 64, 64)\n"
          ]
        }
      ],
      "source": [
        "# check all the shapes\n",
        "print(model.input_shape)\n",
        "print(X_train.shape)\n",
        "print(y_train.shape)\n",
        "print(X_test.shape)\n",
        "print(y_test.shape)\n"
      ]
    },
    {
      "cell_type": "code",
      "execution_count": null,
      "metadata": {
        "colab": {
          "base_uri": "https://localhost:8080/"
        },
        "id": "SknwjDc-fKm3",
        "outputId": "aa195f74-ce94-4d10-d142-11d7821de20e"
      },
      "outputs": [
        {
          "name": "stdout",
          "output_type": "stream",
          "text": [
            "1.0\n",
            "0.0\n"
          ]
        }
      ],
      "source": [
        "print( X_train.max() ) # 1.0 after normalization\n",
        "print( X_train.min() ) # 0.0 after normalization"
      ]
    },
    {
      "cell_type": "code",
      "execution_count": null,
      "metadata": {
        "colab": {
          "base_uri": "https://localhost:8080/"
        },
        "id": "RWN8GkQ4fKm4",
        "outputId": "ae3a7c45-af97-4972-d99f-517fb02d0cef"
      },
      "outputs": [
        {
          "name": "stdout",
          "output_type": "stream",
          "text": [
            " The model is being trained now for 50 epochs\n",
            "Epoch 1/50\n",
            "112/112 [==============================] - 116s 1s/step - loss: 0.6204 - dice_coef: 0.3796 - val_loss: 0.8677 - val_dice_coef: 0.1323\n",
            "Epoch 2/50\n",
            "112/112 [==============================] - 113s 1s/step - loss: 0.5179 - dice_coef: 0.4821 - val_loss: 0.8745 - val_dice_coef: 0.1255\n",
            "Epoch 3/50\n",
            "112/112 [==============================] - 113s 1s/step - loss: 0.4711 - dice_coef: 0.5289 - val_loss: 0.8809 - val_dice_coef: 0.1191\n",
            "Epoch 4/50\n",
            "112/112 [==============================] - 113s 1s/step - loss: 0.4231 - dice_coef: 0.5769 - val_loss: 0.8680 - val_dice_coef: 0.1320\n",
            "Epoch 5/50\n",
            "112/112 [==============================] - 113s 1s/step - loss: 0.3815 - dice_coef: 0.6185 - val_loss: 0.6315 - val_dice_coef: 0.3685\n",
            "Epoch 6/50\n",
            "112/112 [==============================] - 113s 1s/step - loss: 0.3411 - dice_coef: 0.6589 - val_loss: 0.4165 - val_dice_coef: 0.5835\n",
            "Epoch 7/50\n",
            "112/112 [==============================] - 113s 1s/step - loss: 0.3016 - dice_coef: 0.6984 - val_loss: 0.3587 - val_dice_coef: 0.6413\n",
            "Epoch 8/50\n",
            "112/112 [==============================] - 113s 1s/step - loss: 0.2681 - dice_coef: 0.7319 - val_loss: 0.3484 - val_dice_coef: 0.6516\n",
            "Epoch 9/50\n",
            "112/112 [==============================] - 113s 1s/step - loss: 0.2361 - dice_coef: 0.7639 - val_loss: 0.2999 - val_dice_coef: 0.7001\n",
            "Epoch 10/50\n",
            "112/112 [==============================] - 113s 1s/step - loss: 0.2061 - dice_coef: 0.7939 - val_loss: 0.2432 - val_dice_coef: 0.7568\n",
            "Epoch 11/50\n",
            "112/112 [==============================] - 113s 1s/step - loss: 0.1803 - dice_coef: 0.8197 - val_loss: 0.2179 - val_dice_coef: 0.7821\n",
            "Epoch 12/50\n",
            "112/112 [==============================] - 113s 1s/step - loss: 0.1582 - dice_coef: 0.8418 - val_loss: 0.2031 - val_dice_coef: 0.7969\n",
            "Epoch 13/50\n",
            "112/112 [==============================] - 113s 1s/step - loss: 0.1384 - dice_coef: 0.8616 - val_loss: 0.1662 - val_dice_coef: 0.8338\n",
            "Epoch 14/50\n",
            "112/112 [==============================] - 114s 1s/step - loss: 0.1222 - dice_coef: 0.8778 - val_loss: 0.1561 - val_dice_coef: 0.8439\n",
            "Epoch 15/50\n",
            "112/112 [==============================] - 113s 1s/step - loss: 0.1085 - dice_coef: 0.8915 - val_loss: 0.1468 - val_dice_coef: 0.8532\n",
            "Epoch 16/50\n",
            "112/112 [==============================] - 113s 1s/step - loss: 0.0961 - dice_coef: 0.9039 - val_loss: 0.1287 - val_dice_coef: 0.8713\n",
            "Epoch 17/50\n",
            "112/112 [==============================] - 114s 1s/step - loss: 0.1032 - dice_coef: 0.8968 - val_loss: 0.6372 - val_dice_coef: 0.3628\n",
            "Epoch 18/50\n",
            "112/112 [==============================] - 113s 1s/step - loss: 0.0790 - dice_coef: 0.9210 - val_loss: 0.6321 - val_dice_coef: 0.3679\n",
            "Epoch 19/50\n",
            "112/112 [==============================] - 113s 1s/step - loss: 0.0696 - dice_coef: 0.9304 - val_loss: 0.1976 - val_dice_coef: 0.8024\n",
            "Epoch 20/50\n",
            "112/112 [==============================] - 113s 1s/step - loss: 0.0775 - dice_coef: 0.9225 - val_loss: 0.5857 - val_dice_coef: 0.4143\n",
            "Epoch 21/50\n",
            "112/112 [==============================] - 113s 1s/step - loss: 0.0650 - dice_coef: 0.9350 - val_loss: 0.0731 - val_dice_coef: 0.9269\n",
            "Epoch 22/50\n",
            "112/112 [==============================] - 113s 1s/step - loss: 0.0509 - dice_coef: 0.9491 - val_loss: 0.0589 - val_dice_coef: 0.9411\n",
            "Epoch 23/50\n",
            "112/112 [==============================] - 113s 1s/step - loss: 0.0458 - dice_coef: 0.9542 - val_loss: 0.0522 - val_dice_coef: 0.9478\n",
            "Epoch 24/50\n",
            "112/112 [==============================] - 113s 1s/step - loss: 0.0415 - dice_coef: 0.9585 - val_loss: 0.0449 - val_dice_coef: 0.9551\n",
            "Epoch 25/50\n",
            "112/112 [==============================] - 113s 1s/step - loss: 0.0381 - dice_coef: 0.9619 - val_loss: 0.0395 - val_dice_coef: 0.9605\n",
            "Epoch 26/50\n",
            "112/112 [==============================] - 113s 1s/step - loss: 0.0348 - dice_coef: 0.9652 - val_loss: 0.0363 - val_dice_coef: 0.9637\n",
            "Epoch 27/50\n",
            "112/112 [==============================] - 113s 1s/step - loss: 0.0321 - dice_coef: 0.9679 - val_loss: 0.0360 - val_dice_coef: 0.9640\n",
            "Epoch 28/50\n",
            "112/112 [==============================] - 113s 1s/step - loss: 0.0299 - dice_coef: 0.9701 - val_loss: 0.0311 - val_dice_coef: 0.9689\n",
            "Epoch 29/50\n",
            "112/112 [==============================] - 114s 1s/step - loss: 0.0273 - dice_coef: 0.9727 - val_loss: 0.0295 - val_dice_coef: 0.9705\n",
            "Epoch 30/50\n",
            "112/112 [==============================] - 114s 1s/step - loss: 0.0255 - dice_coef: 0.9745 - val_loss: 0.0284 - val_dice_coef: 0.9716\n",
            "Epoch 31/50\n",
            "112/112 [==============================] - 113s 1s/step - loss: 0.0237 - dice_coef: 0.9763 - val_loss: 0.0273 - val_dice_coef: 0.9727\n",
            "Epoch 32/50\n",
            "112/112 [==============================] - 113s 1s/step - loss: 0.0225 - dice_coef: 0.9775 - val_loss: 0.0243 - val_dice_coef: 0.9757\n",
            "Epoch 33/50\n",
            "112/112 [==============================] - 113s 1s/step - loss: 0.0208 - dice_coef: 0.9792 - val_loss: 0.0234 - val_dice_coef: 0.9766\n",
            "Epoch 34/50\n",
            "112/112 [==============================] - 113s 1s/step - loss: 0.0196 - dice_coef: 0.9804 - val_loss: 0.0207 - val_dice_coef: 0.9793\n",
            "Epoch 35/50\n",
            "112/112 [==============================] - 113s 1s/step - loss: 0.0185 - dice_coef: 0.9815 - val_loss: 0.0207 - val_dice_coef: 0.9793\n",
            "Epoch 36/50\n",
            "112/112 [==============================] - 113s 1s/step - loss: 0.0174 - dice_coef: 0.9826 - val_loss: 0.0190 - val_dice_coef: 0.9810\n",
            "Epoch 37/50\n",
            "112/112 [==============================] - 113s 1s/step - loss: 0.0165 - dice_coef: 0.9835 - val_loss: 0.0187 - val_dice_coef: 0.9813\n",
            "Epoch 38/50\n",
            "112/112 [==============================] - 113s 1s/step - loss: 0.0156 - dice_coef: 0.9844 - val_loss: 0.0178 - val_dice_coef: 0.9822\n",
            "Epoch 39/50\n",
            "112/112 [==============================] - 113s 1s/step - loss: 0.0148 - dice_coef: 0.9852 - val_loss: 0.0165 - val_dice_coef: 0.9835\n",
            "Epoch 40/50\n",
            "112/112 [==============================] - 114s 1s/step - loss: 0.0141 - dice_coef: 0.9859 - val_loss: 0.0161 - val_dice_coef: 0.9839\n",
            "Epoch 41/50\n",
            "112/112 [==============================] - 113s 1s/step - loss: 0.0134 - dice_coef: 0.9866 - val_loss: 0.0160 - val_dice_coef: 0.9840\n",
            "Epoch 42/50\n",
            "112/112 [==============================] - 113s 1s/step - loss: 0.0128 - dice_coef: 0.9872 - val_loss: 0.0160 - val_dice_coef: 0.9840\n",
            "Epoch 43/50\n",
            "112/112 [==============================] - 113s 1s/step - loss: 0.0123 - dice_coef: 0.9877 - val_loss: 0.0148 - val_dice_coef: 0.9852\n",
            "Epoch 44/50\n",
            "112/112 [==============================] - 113s 1s/step - loss: 0.0117 - dice_coef: 0.9883 - val_loss: 0.0152 - val_dice_coef: 0.9848\n",
            "Epoch 45/50\n",
            "112/112 [==============================] - 113s 1s/step - loss: 0.0113 - dice_coef: 0.9887 - val_loss: 0.0142 - val_dice_coef: 0.9858\n",
            "Epoch 46/50\n",
            "112/112 [==============================] - 113s 1s/step - loss: 0.0109 - dice_coef: 0.9891 - val_loss: 0.0130 - val_dice_coef: 0.9870\n",
            "Epoch 47/50\n",
            "112/112 [==============================] - 113s 1s/step - loss: 0.0105 - dice_coef: 0.9895 - val_loss: 0.0134 - val_dice_coef: 0.9866\n",
            "Epoch 48/50\n",
            "112/112 [==============================] - 113s 1s/step - loss: 0.0101 - dice_coef: 0.9899 - val_loss: 0.0122 - val_dice_coef: 0.9878\n",
            "Epoch 49/50\n",
            "112/112 [==============================] - 113s 1s/step - loss: 0.0097 - dice_coef: 0.9903 - val_loss: 0.0117 - val_dice_coef: 0.9883\n",
            "Epoch 50/50\n",
            "112/112 [==============================] - 113s 1s/step - loss: 0.0094 - dice_coef: 0.9906 - val_loss: 0.0106 - val_dice_coef: 0.9894\n"
          ]
        }
      ],
      "source": [
        "# fit the model\n",
        "print(\" The model is being trained now for %d epochs\" %epochs)\n",
        "history = model.fit(X_train, \n",
        "                    y_train, \n",
        "                    batch_size=4, \n",
        "                    epochs=50, \n",
        "                    verbose=1, \n",
        "                    validation_data=(X_test, y_test))"
      ]
    },
    {
      "cell_type": "code",
      "execution_count": null,
      "metadata": {
        "id": "rsdJCDpHfKm4"
      },
      "outputs": [],
      "source": [
        "# save the model\n",
        "model.save( saved_model_name )"
      ]
    },
    {
      "cell_type": "code",
      "execution_count": null,
      "metadata": {
        "colab": {
          "base_uri": "https://localhost:8080/",
          "height": 927
        },
        "id": "mn-hjIknfKm4",
        "outputId": "58f2cec1-bc49-4a70-e3b7-c38d7959ef4c"
      },
      "outputs": [
        {
          "data": {
            "image/png": "[encoded data removed]",
            "text/plain": [
              "<Figure size 640x480 with 1 Axes>"
            ]
          },
          "metadata": {},
          "output_type": "display_data"
        },
        {
          "data": {
            "image/png": "[encoded data removed]",
            "text/plain": [
              "<Figure size 640x480 with 1 Axes>"
            ]
          },
          "metadata": {},
          "output_type": "display_data"
        }
      ],
      "source": [
        "# plot the traning and validation loss\n",
        "loss = history.history['loss']\n",
        "val_loss = history.history['val_loss']\n",
        "epochs = range(1, len(loss) + 1)\n",
        "plt.plot(epochs, loss, 'y', label='Training loss')\n",
        "plt.plot(epochs, val_loss, 'r', label='Validation loss')\n",
        "plt.title('Training and validation loss')\n",
        "plt.xlabel('Epochs')\n",
        "plt.ylabel('Loss')\n",
        "plt.legend()\n",
        "plt.show()\n",
        "\n",
        "acc = history.history['dice_coef']\n",
        "val_acc = history.history['val_dice_coef']\n",
        "\n",
        "plt.plot(epochs, acc, 'y', label='Training Dice')\n",
        "plt.plot(epochs, val_acc, 'r', label='Validation Dice')\n",
        "plt.title('Training and validation Dice')\n",
        "plt.xlabel('Epochs')\n",
        "plt.ylabel('Dice')\n",
        "plt.legend()\n",
        "plt.show()\n"
      ]
    },
    {
      "cell_type": "code",
      "execution_count": null,
      "metadata": {
        "id": "Qi_KD2grfKm4"
      },
      "outputs": [],
      "source": [
        "# if asked, reload the model\n",
        "# model = keras.models.load_model(saved_model_name)\n",
        "\n",
        "# if the previous one is not working, try this one\n",
        "my_model2 = keras.models.load_model(saved_model_name, custom_objects={'dice_coef_loss': dice_coef_loss, 'dice_coef': dice_coef})"
      ]
    },
    {
      "cell_type": "code",
      "execution_count": null,
      "metadata": {
        "id": "DZjqp9tJrQ32"
      },
      "outputs": [],
      "source": [
        "tf.keras.backend.clear_session()"
      ]
    },
    {
      "cell_type": "code",
      "execution_count": null,
      "metadata": {
        "id": "BjvA-ckwfKm4"
      },
      "outputs": [],
      "source": [
        "# predict on the validation set to visualize the results\n",
        "y_pred = my_model2.predict(X_test)\n"
      ]
    },
    {
      "cell_type": "code",
      "execution_count": null,
      "metadata": {
        "id": "5GTv2RlbfKm4"
      },
      "outputs": [],
      "source": [
        "# check the shapes\n",
        "print(y_pred.shape)\n",
        "print(y_test.shape)\n"
      ]
    },
    {
      "cell_type": "code",
      "execution_count": null,
      "metadata": {
        "id": "vRxMh6MgfKm5"
      },
      "outputs": [],
      "source": [
        "# visualize the predicted and ground truth masks\n",
        "num = 15 # image number\n",
        "sl = 62 # slice number\n",
        "\n",
        "fig, ax = plt.subplots(nrows=1, ncols=3)\n",
        "im1 = ax[0].imshow(X_test[num,:, sl, :])\n",
        "ax[0].set_title('Original Image patch') \n",
        "ax[0].axis(\"off\")\n",
        "fig.colorbar(im1, ax = ax[0])\n",
        "\n",
        "x = y_pred[num, :, :, :]\n",
        "im2 = ax[1].imshow(x[:, sl, :, 0])\n",
        "ax[1].set_title('Predicted Mask patch')\n",
        "ax[1].axis(\"off\")\n",
        "fig.colorbar(im2, ax = ax[1])\n",
        "\n",
        "\n",
        "im3 = ax[2].imshow(y_test[num, :, sl, :])\n",
        "ax[2].set_title('Ground Truth Mask patch')\n",
        "ax[2].axis(\"off\")\n",
        "fig.colorbar(im3, ax = ax[2])\n",
        "\n",
        "# Show the subplot\n",
        "plt.show()"
      ]
    },
    {
      "cell_type": "code",
      "execution_count": null,
      "metadata": {
        "id": "HtfGyTCRfKm5"
      },
      "outputs": [],
      "source": [
        "print(y_pred.dtype)\n",
        "y_pred = (y_pred>0.5).astype(np.float32)"
      ]
    },
    {
      "cell_type": "code",
      "execution_count": null,
      "metadata": {
        "id": "y5LTRmsSfKm5"
      },
      "outputs": [],
      "source": [
        "# find dice for the whole test dataset\n",
        "print(\"Dice results for the whole validation dataset is: \" + str(dice_coef(y_test, y_pred)) )\n"
      ]
    }
  ],
  "metadata": {
    "accelerator": "GPU",
    "colab": {
      "machine_shape": "hm",
      "provenance": []
    },
    "gpuClass": "standard",
    "kernelspec": {
      "display_name": "Python 3",
      "language": "python",
      "name": "python3"
    },
    "language_info": {
      "codemirror_mode": {
        "name": "ipython",
        "version": 3
      },
      "file_extension": ".py",
      "mimetype": "text/x-python",
      "name": "python",
      "nbconvert_exporter": "python",
      "pygments_lexer": "ipython3",
      "version": "3.9.1"
    }
  },
  "nbformat": 4,
  "nbformat_minor": 0
}
