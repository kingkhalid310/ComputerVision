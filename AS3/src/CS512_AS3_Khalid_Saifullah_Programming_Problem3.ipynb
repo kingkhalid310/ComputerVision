{
  "cells": [
    {
      "cell_type": "code",
      "execution_count": null,
      "metadata": {
        "id": "jLwkqvLtm4Nl",
        "colab": {
          "base_uri": "https://localhost:8080/"
        },
        "outputId": "91d14574-38c8-49d2-d414-fe7bc68d7c63"
      },
      "outputs": [
        {
          "output_type": "stream",
          "name": "stdout",
          "text": [
            "Drive already mounted at /content/drive; to attempt to forcibly remount, call drive.mount(\"/content/drive\", force_remount=True).\n"
          ]
        }
      ],
      "source": [
        "import os\n",
        "import glob\n",
        "import numpy as np\n",
        "from keras import layers\n",
        "from keras import models\n",
        "from keras import optimizers\n",
        "from keras.preprocessing.image import ImageDataGenerator\n",
        "from google.colab import drive\n",
        "drive.mount('/content/drive')"
      ]
    },
    {
      "cell_type": "code",
      "execution_count": null,
      "metadata": {
        "id": "jH-Fs33bnbZP",
        "colab": {
          "base_uri": "https://localhost:8080/"
        },
        "outputId": "ab3b0cda-3f09-4315-f27d-ad2b6ecb2abf"
      },
      "outputs": [
        {
          "output_type": "stream",
          "name": "stdout",
          "text": [
            "12510 images found: Cat\n",
            "12500 images found: Dog\n"
          ]
        }
      ],
      "source": [
        "original_cat_dataset_path=\"/content/drive/MyDrive/Colab Notebooks/CS512_AS3/kagglecatsanddogs_5340/PetImages/Cat\"\n",
        "cat_files = glob.glob(os.path.join(original_cat_dataset_path,'*.jpg'))\n",
        "print(\"{} images found:\".format(len(cat_files)),'Cat')\n",
        "\n",
        "\n",
        "original_dog_dataset_path=\"/content/drive/MyDrive/Colab Notebooks/CS512_AS3/kagglecatsanddogs_5340/PetImages/Dog\"\n",
        "dog_files = glob.glob(os.path.join(original_dog_dataset_path,'*.jpg'))\n",
        "print(\"{} images found:\".format(len(dog_files)),'Dog')\n"
      ]
    },
    {
      "cell_type": "code",
      "execution_count": null,
      "metadata": {
        "id": "9j6kEW06yOcn"
      },
      "outputs": [],
      "source": [
        "base_dir=\"/content/drive/MyDrive/Colab Notebooks/CS512_AS3/kagglecatsanddogs_5340/cats_and_dogs_small\"\n",
        "os.mkdir(base_dir)\n",
        "\n",
        "train_dir=os.path.join(base_dir,'train')\n",
        "os.mkdir(train_dir)\n",
        "train_cats_dir=os.path.join(base_dir,'train','cats')\n",
        "os.mkdir(train_cats_dir)\n",
        "train_dogs_dir=os.path.join(base_dir,'train','dogs')\n",
        "os.mkdir(train_dogs_dir)\n",
        "\n",
        "validation_dir=os.path.join(base_dir,'validation')\n",
        "os.mkdir(validation_dir)\n",
        "validation_cats_dir=os.path.join(base_dir,'validation','cats')\n",
        "os.mkdir(validation_cats_dir)\n",
        "validation_dogs_dir=os.path.join(base_dir,'validation','dogs')\n",
        "os.mkdir(validation_dogs_dir)\n",
        "\n",
        "test_dir=os.path.join(base_dir,'test')\n",
        "os.mkdir(test_dir)\n",
        "test_cats_dir=os.path.join(base_dir,'test','cats')\n",
        "os.mkdir(test_cats_dir)\n",
        "test_dogs_dir=os.path.join(base_dir,'test','dogs')\n",
        "os.mkdir(test_dogs_dir)\n"
      ]
    },
    {
      "cell_type": "code",
      "execution_count": null,
      "metadata": {
        "id": "fwPLa1v2GeIV"
      },
      "outputs": [],
      "source": [
        "#Problem 3(a)\n",
        "\n",
        "# original_cat_dataset_path\n",
        "# original_dog_dataset_path\n",
        "# train_cats_dir\n",
        "# train_dogs_dir\n",
        "# validation_cats_dir\n",
        "# validation_dogs_dir\n",
        "# test_cats_dir\n",
        "# test_dogs_dir\n",
        "import shutil\n",
        "fnames = ['{}.jpg'.format(i) for i in range(1000, 2000)]\n",
        "for fname in fnames:\n",
        "  src = os.path.join(original_cat_dataset_path, fname)\n",
        "  dst = os.path.join(train_cats_dir, fname)\n",
        "  #print (src,dst)\n",
        "  shutil.copyfile (src, dst)\n",
        "\n",
        "fnames = ['{}.jpg'.format(i) for i in range(1000, 2000)]\n",
        "for fname in fnames:\n",
        "  src = os.path.join(original_dog_dataset_path, fname)\n",
        "  dst = os.path.join(train_dogs_dir, fname)\n",
        "  #print (src,dst)\n",
        "  shutil.copyfile (src, dst)\n",
        "\n",
        "fnames = ['{}.jpg'.format(i) for i in range(2000,2500)]\n",
        "for fname in fnames:\n",
        "  src = os.path.join(original_cat_dataset_path, fname)\n",
        "  dst = os.path.join(validation_cats_dir, fname)\n",
        "  #print (src,dst)\n",
        "  shutil.copyfile (src, dst)\n",
        "\n",
        "fnames = ['{}.jpg'.format(i) for i in range(2000,2500)]\n",
        "for fname in fnames:\n",
        "  src = os.path.join(original_dog_dataset_path, fname)\n",
        "  dst = os.path.join(validation_dogs_dir, fname)\n",
        "  #print (src,dst)\n",
        "  shutil.copyfile (src, dst)\n",
        "\n",
        "fnames = ['{}.jpg'.format(i) for i in range(2500,3000)]\n",
        "for fname in fnames:\n",
        "  src = os.path.join(original_cat_dataset_path, fname)\n",
        "  dst = os.path.join(test_cats_dir, fname)\n",
        "  #print (src,dst)\n",
        "  shutil.copyfile (src, dst)\n",
        "\n",
        "fnames = ['{}.jpg'.format(i) for i in range(2500,3000)]\n",
        "for fname in fnames:\n",
        "  src = os.path.join(original_dog_dataset_path, fname)\n",
        "  dst = os.path.join(test_dogs_dir, fname)\n",
        "  #print (src,dst)\n",
        "  shutil.copyfile (src, dst)\n",
        "\n",
        "\n",
        "\n"
      ]
    },
    {
      "cell_type": "code",
      "execution_count": null,
      "metadata": {
        "colab": {
          "base_uri": "https://localhost:8080/"
        },
        "id": "wFXA_GiOTMBe",
        "outputId": "23dfcf14-737a-4a2f-9df1-31c9ebfe0e97"
      },
      "outputs": [
        {
          "output_type": "stream",
          "name": "stdout",
          "text": [
            "total training cat images: 1000\n",
            "total training dog images: 1000\n",
            "total validation cat images: 500\n",
            "total validation dog images: 500\n",
            "total test cat images: 500\n",
            "total test dog images: 500\n"
          ]
        }
      ],
      "source": [
        "print ('total training cat images:', len(os.listdir(train_cats_dir))) \n",
        "print ('total training dog images:', len(os.listdir(train_dogs_dir))) \n",
        "print ('total validation cat images:', len(os.listdir(validation_cats_dir)))\n",
        "print ('total validation dog images:', len(os.listdir(validation_dogs_dir))) \n",
        "print ('total test cat images:', len(os.listdir(test_cats_dir))) \n",
        "print ('total test dog images:', len(os.listdir(test_dogs_dir)))"
      ]
    },
    {
      "cell_type": "code",
      "execution_count": null,
      "metadata": {
        "colab": {
          "base_uri": "https://localhost:8080/"
        },
        "id": "99L4lJV-f6hb",
        "outputId": "aa9f7276-7cd3-4f76-8797-32f61a0d910f"
      },
      "outputs": [
        {
          "output_type": "stream",
          "name": "stdout",
          "text": [
            "Model: \"sequential_2\"\n",
            "_________________________________________________________________\n",
            " Layer (type)                Output Shape              Param #   \n",
            "=================================================================\n",
            " conv2d_2 (Conv2D)           (None, 148, 148, 32)      896       \n",
            "                                                                 \n",
            " max_pooling2d_2 (MaxPooling  (None, 74, 74, 32)       0         \n",
            " 2D)                                                             \n",
            "                                                                 \n",
            " conv2d_3 (Conv2D)           (None, 72, 72, 64)        18496     \n",
            "                                                                 \n",
            " max_pooling2d_3 (MaxPooling  (None, 36, 36, 64)       0         \n",
            " 2D)                                                             \n",
            "                                                                 \n",
            " conv2d_4 (Conv2D)           (None, 34, 34, 128)       73856     \n",
            "                                                                 \n",
            " max_pooling2d_4 (MaxPooling  (None, 17, 17, 128)      0         \n",
            " 2D)                                                             \n",
            "                                                                 \n",
            " conv2d_5 (Conv2D)           (None, 15, 15, 128)       147584    \n",
            "                                                                 \n",
            " max_pooling2d_5 (MaxPooling  (None, 7, 7, 128)        0         \n",
            " 2D)                                                             \n",
            "                                                                 \n",
            " flatten_2 (Flatten)         (None, 6272)              0         \n",
            "                                                                 \n",
            " dropout_1 (Dropout)         (None, 6272)              0         \n",
            "                                                                 \n",
            " dense_4 (Dense)             (None, 512)               3211776   \n",
            "                                                                 \n",
            " dense_5 (Dense)             (None, 1)                 513       \n",
            "                                                                 \n",
            "=================================================================\n",
            "Total params: 3,453,121\n",
            "Trainable params: 3,453,121\n",
            "Non-trainable params: 0\n",
            "_________________________________________________________________\n"
          ]
        }
      ],
      "source": [
        "#Problem 3(b)\n",
        "\n",
        "model = models.Sequential()\n",
        "model.add(layers.Conv2D(32, (3, 3), activation='relu', input_shape=(150, 150, 3)))\n",
        "# model.add(BatchNormalization(momentum=momentum)) #Don't know if this is the right spot \n",
        "model.add(layers.MaxPooling2D( (2, 2)))\n",
        "model.add(layers.Conv2D(64, (3, 3), activation='relu')) \n",
        "model.add(layers.MaxPooling2D( (2, 2))) \n",
        "model.add(layers.Conv2D(128, (3, 3), activation='relu')) \n",
        "model.add(layers.MaxPooling2D ( (2, 2)))\n",
        "model.add(layers.Conv2D(128, (3, 3), activation='relu')) \n",
        "model.add(layers.MaxPooling2D ( (2, 2)))\n",
        "model.add(layers.Flatten())\n",
        "model.add(layers.Dropout(0.5))\n",
        "model.add(layers. Dense(512, activation='relu')) \n",
        "model.add(layers.Dense(1,activation='sigmoid'))\n",
        "model.summary()"
      ]
    },
    {
      "cell_type": "code",
      "execution_count": null,
      "metadata": {
        "id": "3kUKvNcEVipk"
      },
      "outputs": [],
      "source": [
        "model.compile(loss='binary_crossentropy', optimizer=optimizers.RMSprop(learning_rate=1e-4), metrics=['acc'])"
      ]
    },
    {
      "cell_type": "code",
      "execution_count": null,
      "metadata": {
        "colab": {
          "base_uri": "https://localhost:8080/"
        },
        "id": "wbhhz-DcWWj6",
        "outputId": "c974978b-bfaf-4ebd-da6b-0b7a04fb26c8"
      },
      "outputs": [
        {
          "output_type": "stream",
          "name": "stdout",
          "text": [
            "Found 2000 images belonging to 2 classes.\n",
            "Found 1000 images belonging to 2 classes.\n"
          ]
        }
      ],
      "source": [
        "\n",
        "train_datagen = ImageDataGenerator(rescale=1./255)\n",
        "test_datagen = ImageDataGenerator(rescale=1./255)\n",
        "train_generator = train_datagen.flow_from_directory(train_dir, target_size=(150, 150), batch_size=20, class_mode='binary')\n",
        "validation_generator = test_datagen.flow_from_directory(validation_dir, target_size=(150, 150), batch_size=20, class_mode='binary')"
      ]
    },
    {
      "cell_type": "code",
      "execution_count": null,
      "metadata": {
        "colab": {
          "base_uri": "https://localhost:8080/"
        },
        "id": "79vRp0uveu6B",
        "outputId": "9c3cc23a-72f8-4105-fd29-7f064ff7d2f7"
      },
      "outputs": [
        {
          "output_type": "stream",
          "name": "stderr",
          "text": [
            "<ipython-input-28-fe166095b81d>:1: UserWarning: `Model.fit_generator` is deprecated and will be removed in a future version. Please use `Model.fit`, which supports generators.\n",
            "  history = model.fit_generator(train_generator, steps_per_epoch=100, epochs=30, validation_data=validation_generator, validation_steps=1) #steps_per_epoch=100, epochs=30\n"
          ]
        },
        {
          "output_type": "stream",
          "name": "stdout",
          "text": [
            "Epoch 1/30\n",
            "100/100 [==============================] - 131s 1s/step - loss: 0.6930 - acc: 0.5055 - val_loss: 0.5969 - val_acc: 0.6500\n",
            "Epoch 2/30\n",
            "100/100 [==============================] - 123s 1s/step - loss: 0.6713 - acc: 0.5805 - val_loss: 0.6045 - val_acc: 0.6500\n",
            "Epoch 3/30\n",
            "100/100 [==============================] - 123s 1s/step - loss: 0.6446 - acc: 0.6150 - val_loss: 0.6182 - val_acc: 0.6500\n",
            "Epoch 4/30\n",
            "100/100 [==============================] - 124s 1s/step - loss: 0.6286 - acc: 0.6445 - val_loss: 0.5504 - val_acc: 0.8500\n",
            "Epoch 5/30\n",
            "100/100 [==============================] - 128s 1s/step - loss: 0.5869 - acc: 0.6990 - val_loss: 0.4935 - val_acc: 0.7500\n",
            "Epoch 6/30\n",
            "100/100 [==============================] - 123s 1s/step - loss: 0.5663 - acc: 0.7020 - val_loss: 0.5334 - val_acc: 0.7000\n",
            "Epoch 7/30\n",
            "100/100 [==============================] - 122s 1s/step - loss: 0.5459 - acc: 0.7270 - val_loss: 0.5158 - val_acc: 0.7500\n",
            "Epoch 8/30\n",
            "100/100 [==============================] - 120s 1s/step - loss: 0.5387 - acc: 0.7285 - val_loss: 0.6690 - val_acc: 0.6000\n",
            "Epoch 9/30\n",
            "100/100 [==============================] - 120s 1s/step - loss: 0.5158 - acc: 0.7555 - val_loss: 0.6673 - val_acc: 0.6000\n",
            "Epoch 10/30\n",
            "100/100 [==============================] - 122s 1s/step - loss: 0.5014 - acc: 0.7400 - val_loss: 0.6652 - val_acc: 0.6500\n",
            "Epoch 11/30\n",
            "100/100 [==============================] - 120s 1s/step - loss: 0.4781 - acc: 0.7665 - val_loss: 0.6149 - val_acc: 0.7000\n",
            "Epoch 12/30\n",
            "100/100 [==============================] - 121s 1s/step - loss: 0.4598 - acc: 0.7815 - val_loss: 0.3864 - val_acc: 0.8500\n",
            "Epoch 13/30\n",
            "100/100 [==============================] - 121s 1s/step - loss: 0.4449 - acc: 0.7840 - val_loss: 0.3381 - val_acc: 0.8500\n",
            "Epoch 14/30\n",
            "100/100 [==============================] - 123s 1s/step - loss: 0.4147 - acc: 0.8100 - val_loss: 0.6238 - val_acc: 0.6000\n",
            "Epoch 15/30\n",
            "100/100 [==============================] - 124s 1s/step - loss: 0.4035 - acc: 0.8140 - val_loss: 0.5437 - val_acc: 0.7000\n",
            "Epoch 16/30\n",
            "100/100 [==============================] - 125s 1s/step - loss: 0.3886 - acc: 0.8295 - val_loss: 0.6113 - val_acc: 0.7000\n",
            "Epoch 17/30\n",
            "100/100 [==============================] - 123s 1s/step - loss: 0.3750 - acc: 0.8375 - val_loss: 0.3755 - val_acc: 0.8500\n",
            "Epoch 18/30\n",
            "100/100 [==============================] - 123s 1s/step - loss: 0.3593 - acc: 0.8395 - val_loss: 0.4589 - val_acc: 0.7500\n",
            "Epoch 19/30\n",
            "100/100 [==============================] - 122s 1s/step - loss: 0.3457 - acc: 0.8430 - val_loss: 0.3433 - val_acc: 0.8500\n",
            "Epoch 20/30\n",
            "100/100 [==============================] - 123s 1s/step - loss: 0.3172 - acc: 0.8660 - val_loss: 0.7575 - val_acc: 0.6000\n",
            "Epoch 21/30\n",
            "100/100 [==============================] - 123s 1s/step - loss: 0.3107 - acc: 0.8700 - val_loss: 0.3495 - val_acc: 0.8500\n",
            "Epoch 22/30\n",
            "100/100 [==============================] - 124s 1s/step - loss: 0.3091 - acc: 0.8745 - val_loss: 0.3720 - val_acc: 0.9000\n",
            "Epoch 23/30\n",
            "100/100 [==============================] - 122s 1s/step - loss: 0.2818 - acc: 0.8775 - val_loss: 0.7855 - val_acc: 0.6500\n",
            "Epoch 24/30\n",
            "100/100 [==============================] - 122s 1s/step - loss: 0.2665 - acc: 0.8970 - val_loss: 0.5302 - val_acc: 0.8000\n",
            "Epoch 25/30\n",
            "100/100 [==============================] - 124s 1s/step - loss: 0.2471 - acc: 0.9010 - val_loss: 0.6461 - val_acc: 0.7000\n",
            "Epoch 26/30\n",
            "100/100 [==============================] - 124s 1s/step - loss: 0.2565 - acc: 0.8955 - val_loss: 0.6720 - val_acc: 0.6500\n",
            "Epoch 27/30\n",
            "100/100 [==============================] - 123s 1s/step - loss: 0.2299 - acc: 0.9100 - val_loss: 0.2776 - val_acc: 0.8500\n",
            "Epoch 28/30\n",
            "100/100 [==============================] - 122s 1s/step - loss: 0.2248 - acc: 0.9165 - val_loss: 0.4918 - val_acc: 0.7000\n",
            "Epoch 29/30\n",
            "100/100 [==============================] - 124s 1s/step - loss: 0.2057 - acc: 0.9200 - val_loss: 0.7570 - val_acc: 0.7000\n",
            "Epoch 30/30\n",
            "100/100 [==============================] - 123s 1s/step - loss: 0.2074 - acc: 0.9185 - val_loss: 0.7575 - val_acc: 0.6500\n"
          ]
        }
      ],
      "source": [
        "history = model.fit_generator(train_generator, steps_per_epoch=100, epochs=30, validation_data=validation_generator, validation_steps=1) #steps_per_epoch=100, epochs=30\n",
        "model.save('/content/drive/MyDrive/Colab Notebooks/CS512_AS3/kagglecatsanddogs_5340/cats_and_dogs_small/model_1.h5')"
      ]
    },
    {
      "cell_type": "code",
      "execution_count": null,
      "metadata": {
        "colab": {
          "base_uri": "https://localhost:8080/",
          "height": 545
        },
        "id": "6WiouIC2-rDK",
        "outputId": "090fdc3c-83f5-4133-c985-16189ef89ed2"
      },
      "outputs": [
        {
          "output_type": "display_data",
          "data": {
            "text/plain": [
              "<Figure size 432x288 with 1 Axes>"
            ],
            "image/png": "[encoded data removed]"
          },
          "metadata": {
            "needs_background": "light"
          }
        },
        {
          "output_type": "display_data",
          "data": {
            "text/plain": [
              "<Figure size 432x288 with 1 Axes>"
            ],
            "image/png": "[encoded data removed]"
          },
          "metadata": {
            "needs_background": "light"
          }
        }
      ],
      "source": [
        "import matplotlib.pyplot as plt\n",
        "acc = history.history['acc'] \n",
        "val_acc = history. history['val_acc']\n",
        "loss = history.history['loss']\n",
        "val_loss = history.history['val_loss']\n",
        "\n",
        "epochs = range(1, len(acc) + 1)\n",
        "\n",
        "plt.plot(epochs, acc, 'bo', label= 'Training acc')\n",
        "plt.plot(epochs, val_acc, 'b', label='Validation acc')\n",
        "plt.title(\"Training and validation accuracy\")\n",
        "plt.legend()\n",
        "\n",
        "plt.figure()\n",
        "\n",
        "plt.plot(epochs, loss, 'bo', label='Training loss')\n",
        "plt.plot (epochs, val_loss, 'b', label='Validation loss')\n",
        "plt.title(\"Training and validation loss\")\n",
        "plt.legend()\n",
        "\n",
        "plt.show()"
      ]
    },
    {
      "cell_type": "code",
      "execution_count": null,
      "metadata": {
        "colab": {
          "base_uri": "https://localhost:8080/"
        },
        "id": "LUMAbknjqQ9l",
        "outputId": "8b730d92-9570-4f08-f6b6-919dd199e656"
      },
      "outputs": [
        {
          "output_type": "stream",
          "name": "stdout",
          "text": [
            "Found 2000 images belonging to 2 classes.\n",
            "Found 1000 images belonging to 2 classes.\n"
          ]
        }
      ],
      "source": [
        "#Problem 3(c)\n",
        "#Data Augmentation\n",
        "\n",
        "train_datagen = ImageDataGenerator(rescale= 1./255, rotation_range=40, width_shift_range=0.2, height_shift_range=0.2, shear_range=0.2, zoom_range=0.2, horizontal_flip=True,)\n",
        "\n",
        "train_generator = train_datagen.flow_from_directory(train_dir, target_size=(150, 150), batch_size=32, class_mode='binary')\n",
        "validation_generator = test_datagen.flow_from_directory(validation_dir, target_size=(150, 150), batch_size=32, class_mode='binary')\n"
      ]
    },
    {
      "cell_type": "code",
      "execution_count": null,
      "metadata": {
        "colab": {
          "base_uri": "https://localhost:8080/"
        },
        "id": "hswcju-QqgDU",
        "outputId": "d9c59758-f3e4-44bf-fea0-2e42db49b2c9"
      },
      "outputs": [
        {
          "output_type": "stream",
          "name": "stderr",
          "text": [
            "<ipython-input-41-7b02ebc17a5e>:4: UserWarning: `Model.fit_generator` is deprecated and will be removed in a future version. Please use `Model.fit`, which supports generators.\n",
            "  history = model.fit_generator(train_generator, steps_per_epoch=len(train_generator)//batch_size, epochs=30, validation_data=validation_generator, validation_steps=len(validation_generator)//batch_size) #steps_per_epoch=100, epochs=30\n"
          ]
        },
        {
          "output_type": "stream",
          "name": "stdout",
          "text": [
            "Epoch 1/30\n",
            "3/3 [==============================] - 36s 14s/step - loss: 0.4022 - accuracy: 0.8021 - val_loss: 0.2967 - val_accuracy: 0.8750\n",
            "Epoch 2/30\n",
            "3/3 [==============================] - 39s 14s/step - loss: 0.4547 - accuracy: 0.7812 - val_loss: 0.1087 - val_accuracy: 1.0000\n",
            "Epoch 3/30\n",
            "3/3 [==============================] - 39s 15s/step - loss: 0.3659 - accuracy: 0.8750 - val_loss: 0.4318 - val_accuracy: 0.7812\n",
            "Epoch 4/30\n",
            "3/3 [==============================] - 36s 14s/step - loss: 0.4063 - accuracy: 0.7812 - val_loss: 0.2147 - val_accuracy: 0.9062\n",
            "Epoch 5/30\n",
            "3/3 [==============================] - 37s 14s/step - loss: 0.4493 - accuracy: 0.7812 - val_loss: 0.4286 - val_accuracy: 0.7812\n",
            "Epoch 6/30\n",
            "3/3 [==============================] - 38s 15s/step - loss: 0.4761 - accuracy: 0.7708 - val_loss: 0.2659 - val_accuracy: 0.8750\n",
            "Epoch 7/30\n",
            "3/3 [==============================] - 37s 14s/step - loss: 0.2992 - accuracy: 0.8750 - val_loss: 0.2085 - val_accuracy: 0.9375\n",
            "Epoch 8/30\n",
            "3/3 [==============================] - 38s 14s/step - loss: 0.4645 - accuracy: 0.7917 - val_loss: 0.2929 - val_accuracy: 0.9062\n",
            "Epoch 9/30\n",
            "3/3 [==============================] - 36s 14s/step - loss: 0.3535 - accuracy: 0.8854 - val_loss: 0.3859 - val_accuracy: 0.8125\n",
            "Epoch 10/30\n",
            "3/3 [==============================] - 36s 13s/step - loss: 0.4145 - accuracy: 0.8646 - val_loss: 0.3491 - val_accuracy: 0.8438\n",
            "Epoch 11/30\n",
            "3/3 [==============================] - 38s 15s/step - loss: 0.4078 - accuracy: 0.8229 - val_loss: 0.2671 - val_accuracy: 0.8438\n",
            "Epoch 12/30\n",
            "3/3 [==============================] - 35s 14s/step - loss: 0.4000 - accuracy: 0.7812 - val_loss: 0.4412 - val_accuracy: 0.7500\n",
            "Epoch 13/30\n",
            "3/3 [==============================] - 36s 13s/step - loss: 0.4472 - accuracy: 0.7917 - val_loss: 0.2824 - val_accuracy: 0.9062\n",
            "Epoch 14/30\n",
            "3/3 [==============================] - 38s 14s/step - loss: 0.4685 - accuracy: 0.7812 - val_loss: 0.3464 - val_accuracy: 0.8750\n",
            "Epoch 15/30\n",
            "3/3 [==============================] - 38s 15s/step - loss: 0.4444 - accuracy: 0.8333 - val_loss: 0.2349 - val_accuracy: 0.8125\n",
            "Epoch 16/30\n",
            "3/3 [==============================] - 36s 14s/step - loss: 0.4297 - accuracy: 0.7396 - val_loss: 0.3541 - val_accuracy: 0.8125\n",
            "Epoch 17/30\n",
            "3/3 [==============================] - 38s 14s/step - loss: 0.4175 - accuracy: 0.7708 - val_loss: 0.4999 - val_accuracy: 0.8125\n",
            "Epoch 18/30\n",
            "3/3 [==============================] - 35s 14s/step - loss: 0.3122 - accuracy: 0.8646 - val_loss: 0.3012 - val_accuracy: 0.9375\n",
            "Epoch 19/30\n",
            "3/3 [==============================] - 35s 14s/step - loss: 0.3519 - accuracy: 0.8125 - val_loss: 0.2282 - val_accuracy: 0.8750\n",
            "Epoch 20/30\n",
            "3/3 [==============================] - 39s 14s/step - loss: 0.4090 - accuracy: 0.7917 - val_loss: 0.2118 - val_accuracy: 0.9062\n",
            "Epoch 21/30\n",
            "3/3 [==============================] - 37s 15s/step - loss: 0.4382 - accuracy: 0.8333 - val_loss: 0.2070 - val_accuracy: 0.9062\n",
            "Epoch 22/30\n",
            "3/3 [==============================] - 34s 14s/step - loss: 0.3277 - accuracy: 0.8375 - val_loss: 0.2450 - val_accuracy: 0.8750\n",
            "Epoch 23/30\n",
            "3/3 [==============================] - 36s 14s/step - loss: 0.3906 - accuracy: 0.8438 - val_loss: 0.2941 - val_accuracy: 0.8750\n",
            "Epoch 24/30\n",
            "3/3 [==============================] - 38s 14s/step - loss: 0.4184 - accuracy: 0.8229 - val_loss: 0.1975 - val_accuracy: 0.8750\n",
            "Epoch 25/30\n",
            "3/3 [==============================] - 38s 15s/step - loss: 0.3280 - accuracy: 0.8646 - val_loss: 0.1676 - val_accuracy: 0.9375\n",
            "Epoch 26/30\n",
            "3/3 [==============================] - 36s 14s/step - loss: 0.4150 - accuracy: 0.8229 - val_loss: 0.3732 - val_accuracy: 0.7812\n",
            "Epoch 27/30\n",
            "3/3 [==============================] - 38s 14s/step - loss: 0.4186 - accuracy: 0.8125 - val_loss: 0.1924 - val_accuracy: 0.9375\n",
            "Epoch 28/30\n",
            "3/3 [==============================] - 38s 15s/step - loss: 0.4148 - accuracy: 0.7812 - val_loss: 0.3185 - val_accuracy: 0.8750\n",
            "Epoch 29/30\n",
            "3/3 [==============================] - 36s 14s/step - loss: 0.3568 - accuracy: 0.8021 - val_loss: 0.1430 - val_accuracy: 0.9688\n",
            "Epoch 30/30\n",
            "3/3 [==============================] - 37s 14s/step - loss: 0.3949 - accuracy: 0.8438 - val_loss: 0.3145 - val_accuracy: 0.9062\n"
          ]
        }
      ],
      "source": [
        "# steps_per_epoch = len(X_train)//batch_size\n",
        "# validation_steps = len(X_test)//batch_size\n",
        "batch_size=20\n",
        "history = model.fit_generator(train_generator, steps_per_epoch=len(train_generator)//batch_size, epochs=30, validation_data=validation_generator, validation_steps=len(validation_generator)//batch_size) #steps_per_epoch=100, epochs=30\n"
      ]
    },
    {
      "cell_type": "code",
      "source": [
        "import matplotlib.pyplot as plt\n",
        "acc = history.history['accuracy'] \n",
        "val_acc = history. history['val_accuracy']\n",
        "loss = history.history['loss']\n",
        "val_loss = history.history['val_loss']\n",
        "\n",
        "epochs = range(1, len(acc) + 1)\n",
        "\n",
        "plt.plot(epochs, acc, 'bo', label= 'Training acc')\n",
        "plt.plot(epochs, val_acc, 'b', label='Validation acc')\n",
        "plt.title(\"Training and validation accuracy\")\n",
        "plt.legend()\n",
        "\n",
        "plt.figure()"
      ],
      "metadata": {
        "colab": {
          "base_uri": "https://localhost:8080/",
          "height": 316
        },
        "id": "KtlFRfDDbQhk",
        "outputId": "4a2765f7-8c2b-434d-a539-b1b7800e99ce"
      },
      "execution_count": null,
      "outputs": [
        {
          "output_type": "execute_result",
          "data": {
            "text/plain": [
              "<Figure size 432x288 with 0 Axes>"
            ]
          },
          "metadata": {},
          "execution_count": 42
        },
        {
          "output_type": "display_data",
          "data": {
            "text/plain": [
              "<Figure size 432x288 with 1 Axes>"
            ],
            "image/png": "[encoded data removed]"
          },
          "metadata": {
            "needs_background": "light"
          }
        },
        {
          "output_type": "display_data",
          "data": {
            "text/plain": [
              "<Figure size 432x288 with 0 Axes>"
            ]
          },
          "metadata": {}
        }
      ]
    },
    {
      "cell_type": "code",
      "execution_count": null,
      "metadata": {
        "colab": {
          "base_uri": "https://localhost:8080/"
        },
        "id": "Mi6HdrbTxpiS",
        "outputId": "6854e5be-225b-45ba-a239-c783da12218b"
      },
      "outputs": [
        {
          "metadata": {
            "tags": null
          },
          "name": "stdout",
          "output_type": "stream",
          "text": [
            "Epoch 1/20\n",
            "63/63 [==============================] - 906s 14s/step - loss: 0.6697 - accuracy: 0.7025 - val_loss: 0.3339 - val_accuracy: 0.8440\n",
            "Epoch 2/20\n",
            "63/63 [==============================] - 893s 14s/step - loss: 0.4439 - accuracy: 0.7970 - val_loss: 0.2929 - val_accuracy: 0.8720\n",
            "Epoch 3/20\n",
            "63/63 [==============================] - 894s 14s/step - loss: 0.3877 - accuracy: 0.8320 - val_loss: 0.2907 - val_accuracy: 0.8720\n",
            "Epoch 4/20\n",
            "63/63 [==============================] - 919s 15s/step - loss: 0.3820 - accuracy: 0.8230 - val_loss: 0.2665 - val_accuracy: 0.8830\n",
            "Epoch 5/20\n",
            "63/63 [==============================] - 893s 14s/step - loss: 0.3769 - accuracy: 0.8250 - val_loss: 0.2581 - val_accuracy: 0.8840\n",
            "Epoch 6/20\n",
            "63/63 [==============================] - 894s 14s/step - loss: 0.3749 - accuracy: 0.8235 - val_loss: 0.2502 - val_accuracy: 0.8900\n",
            "Epoch 7/20\n",
            "63/63 [==============================] - 894s 14s/step - loss: 0.3563 - accuracy: 0.8370 - val_loss: 0.2423 - val_accuracy: 0.9030\n",
            "Epoch 8/20\n",
            "63/63 [==============================] - 892s 14s/step - loss: 0.3521 - accuracy: 0.8375 - val_loss: 0.2651 - val_accuracy: 0.8830\n",
            "Epoch 9/20\n",
            "63/63 [==============================] - 897s 14s/step - loss: 0.3303 - accuracy: 0.8510 - val_loss: 0.2413 - val_accuracy: 0.8960\n",
            "Epoch 10/20\n",
            "63/63 [==============================] - 856s 14s/step - loss: 0.3538 - accuracy: 0.8435 - val_loss: 0.2981 - val_accuracy: 0.8700\n",
            "Epoch 11/20\n",
            "63/63 [==============================] - 897s 14s/step - loss: 0.3559 - accuracy: 0.8305 - val_loss: 0.2657 - val_accuracy: 0.8810\n",
            "Epoch 12/20\n",
            "18/63 [=======>......................] - ETA: 6:36 - loss: 0.3868 - accuracy: 0.8268"
          ]
        }
      ],
      "source": [
        "#Problem 3(d)\n",
        "#Replace your colvolution layers with a pre-trained convolution base of VGG16 and evaluate performance on the validation set.\n",
        "\n",
        "import tensorflow as tf\n",
        "from tensorflow.keras.applications import VGG16\n",
        "from tensorflow.keras import layers\n",
        "\n",
        "# Load the pre-trained VGG16 model\n",
        "vgg16 = VGG16(weights='imagenet', include_top=False, input_shape=(150, 150, 3))\n",
        "\n",
        "# Freeze the pre-trained convolution base\n",
        "vgg16.trainable = False\n",
        "\n",
        "# Define the model architecture\n",
        "model = tf.keras.Sequential([\n",
        "    vgg16,\n",
        "    layers.Flatten(),\n",
        "    layers.Dense(512, activation='relu'),\n",
        "    layers.Dropout(0.5),\n",
        "    layers.Dense(1, activation='sigmoid')\n",
        "])\n",
        "\n",
        "# Compile the model\n",
        "model.compile(optimizer='adam',\n",
        "              loss='binary_crossentropy',\n",
        "              metrics=['accuracy'])\n",
        "\n",
        "# Train the model on the subset of cats and dogs dataset\n",
        "history = model.fit(train_generator,\n",
        "                    epochs=20,\n",
        "                    validation_data=validation_generator)\n",
        "#epochs=20 original\n"
      ]
    },
    {
      "cell_type": "code",
      "execution_count": null,
      "metadata": {
        "id": "DF0bLW68w8bE"
      },
      "outputs": [],
      "source": [
        "import matplotlib.pyplot as plt\n",
        "acc = history.history['accuracy'] \n",
        "val_acc = history. history['val_accuracy']\n",
        "loss = history.history['loss']\n",
        "val_loss = history.history['val_loss']\n",
        "\n",
        "epochs = range(1, len(acc) + 1)\n",
        "\n",
        "plt.plot(epochs, acc, 'bo', label= 'Training acc')\n",
        "plt.plot(epochs, val_acc, 'b', label='Validation acc')\n",
        "plt.title(\"Training and validation accuracy\")\n",
        "plt.legend()\n",
        "\n",
        "plt.figure()"
      ]
    },
    {
      "cell_type": "code",
      "source": [],
      "metadata": {
        "id": "1D5yAz4t-Yeo"
      },
      "execution_count": null,
      "outputs": []
    }
  ],
  "metadata": {
    "colab": {
      "provenance": []
    },
    "kernelspec": {
      "display_name": "Python 3",
      "name": "python3"
    },
    "language_info": {
      "name": "python"
    }
  },
  "nbformat": 4,
  "nbformat_minor": 0
}