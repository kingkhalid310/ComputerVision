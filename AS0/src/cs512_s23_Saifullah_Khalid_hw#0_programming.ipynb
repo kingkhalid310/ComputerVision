{
 "cells": [
  {
   "cell_type": "markdown",
   "metadata": {},
   "source": [
    "***\n",
    "**Name:** Khalid Saifullah \\\n",
    "**Student ID:** A20423546 \\\n",
    "**Course:** CS512 \\\n",
    "**Semester:** Spring, 2023\n",
    "***"
   ]
  },
  {
   "cell_type": "code",
   "execution_count": 60,
   "metadata": {},
   "outputs": [],
   "source": [
    "# Importing Libraries\n",
    "import numpy as np"
   ]
  },
  {
   "cell_type": "markdown",
   "metadata": {},
   "source": [
    "## Question A Solution"
   ]
  },
  {
   "cell_type": "code",
   "execution_count": 61,
   "metadata": {
    "scrolled": false
   },
   "outputs": [
    {
     "name": "stdout",
     "output_type": "stream",
     "text": [
      "1. [-2 -1  0] \n",
      "\n",
      "2. ||a|| =  3.7416573867739413 \n",
      "   Angle =  1.3002465638163236 radian \n",
      "\n",
      "3. [0.26726124 0.53452248 0.80178373] \n",
      "\n",
      "4. cos(a1) =  0.2672612419124244 \n",
      "   cos(a2) =  0.5345224838248488 \n",
      "   cos(a3) =  0.8017837257372732 \n",
      "\n",
      "5. Angle between a and b =  0.2257261285527342 radian \n",
      "\n",
      "6. a.b =  32 \n",
      "   b.a =  32 \n",
      "\n",
      "7. a.b =  32.0 \n",
      "\n",
      "8. Scalar projection of b onto a =  8.55235974119758 \n",
      "\n",
      "9. The cross product of two vectors is perpendicular to both of them.\n",
      "   So, a vector perpendicular to a =  [-0.82475532 -0.20570401  0.41205445] \n",
      "\n",
      "10. a x b =  [-3  6 -3] \n",
      "   b x a =  [ 3 -6  3] \n",
      "\n",
      "11. Vector Perpendicular to both a & b =  [-3  6 -3] \n",
      "\n",
      "12. Linear Dependence of c on [a ; b] is that c =  3.0 a  -1.0 b\n",
      "\n",
      "13. (a.Transpose) b =  32 \n",
      "    a (b.Transpose) = \n",
      " [[ 4  5  6]\n",
      " [ 8 10 12]\n",
      " [12 15 18]] \n",
      "\n"
     ]
    }
   ],
   "source": [
    "a = np.array([1,2,3])\n",
    "b = np.array([4,5,6])\n",
    "c = np.array([-1,1,3])\n",
    "\n",
    "ans2a = np.linalg.norm(a)\n",
    "ans2b = np.arccos(a[0]/ans2a)\n",
    "ans3 = a/ans2a\n",
    "ans5 = np.arccos(np.dot(a,b)/(np.linalg.norm(a)*np.linalg.norm(b)))\n",
    "ans10 = np.linalg.lstsq(np.column_stack([a, b]), c, rcond=None)[0]\n",
    "\n",
    "print('1.', 2*a - b, '\\n')\n",
    "print(\"2. ||a|| = \", ans2a, '\\n', \"  Angle = \", ans2b, \"radian\", '\\n')\n",
    "print('3.', a/ans2a, '\\n')\n",
    "print('4.', 'cos(a1) = ',ans3.item(0), '\\n', '  cos(a2) = ',ans3.item(1), '\\n', '  cos(a3) = ',ans3.item(2), '\\n')\n",
    "print(\"5. Angle between a and b = \", ans5, \"radian\", '\\n')\n",
    "print(\"6. a.b = \", np.dot(a,b), '\\n', \"  b.a = \", np.dot(b,a), '\\n',)\n",
    "print(\"7. a.b = \", np.cos(ans5)*np.linalg.norm(a)*np.linalg.norm(b), '\\n',)\n",
    "print(\"8. Scalar projection of b onto a = \", np.linalg.norm(b)*np.cos(ans5), '\\n',)\n",
    "print('9. The cross product of two vectors is perpendicular to both of them.\\n', \\\n",
    "         '  So, a vector perpendicular to a = ', np.cross(a,np.random.random(len(a))), '\\n')\n",
    "print(\"10. a x b = \", np.cross(a,b), '\\n', \"  b x a = \", np.cross(b,a), '\\n',)\n",
    "print(\"11. Vector Perpendicular to both a & b = \", np.cross(a,b), '\\n')\n",
    "print(\"12. Linear Dependence of c on [a ; b] is that c = \", round(ans10[0],1), 'a ', round(ans10[1],1), 'b\\n')\n",
    "print(\"13. (a.Transpose) b = \", np.dot(a,b), '\\n', \"   a (b.Transpose) = \\n\", np.outer(a,b), '\\n')"
   ]
  },
  {
   "cell_type": "markdown",
   "metadata": {},
   "source": [
    "## Question B Solution"
   ]
  },
  {
   "cell_type": "code",
   "execution_count": 62,
   "metadata": {},
   "outputs": [
    {
     "name": "stdout",
     "output_type": "stream",
     "text": [
      "1. [[ 1.  2.  5.]\n",
      " [ 6. -5. 10.]\n",
      " [-3. 12. -3.]] \n",
      "\n",
      "2. AB =  [[ 14.  -2.  -4.]\n",
      " [  9.   0.  15.]\n",
      " [  7.   7. -21.]] \n",
      "\n",
      " BA =  [[  9.   3.   8.]\n",
      " [  6. -18.  13.]\n",
      " [ -5.  15.   2.]] \n",
      "\n",
      "3. (AB).Transpose = \n",
      " [[ 14.   9.   7.]\n",
      " [ -2.   0.   7.]\n",
      " [ -4.  15. -21.]] \n",
      "\n",
      " (B.Transpose)(A.Transpose) = \n",
      " [[ 14.   9.   7.]\n",
      " [ -2.   0.   7.]\n",
      " [ -4.  15. -21.]] \n",
      "\n",
      "4. |A| =  55.0 and |C| =  0.0 \n",
      "\n",
      "5. For two vectors to be orthogonal, their dot product has to be equal to 0.\n",
      " For matrix A, row1 (dot) row2 =  9.0 \n",
      " row1 (dot) row3 =  7.0 \n",
      " row2 (dot) row3 =  -13.0 \n",
      "\n",
      " For matrix B, row1 (dot) row2 =  0.0 \n",
      " row1 (dot) row3 =  0.0 \n",
      " row2 (dot) row3 =  0.0 \n",
      "\n",
      " For matrix C, row1 (dot) row2 =  32.0 \n",
      " row1 (dot) row3 =  10.0 \n",
      " row2 (dot) row3 =  19.0 \n",
      "\n",
      " Here, the rows of ONLY matrix B are orthogonal to each other.\n",
      "\n",
      "6. A^(-1) = \n",
      " [[-0.23636364  0.30909091  0.21818182]\n",
      " [ 0.07272727 -0.01818182  0.16363636]\n",
      " [ 0.36363636 -0.09090909 -0.18181818]] \n",
      "\n",
      "B^(-1) = \n",
      " [[ 0.16666667  0.0952381   0.21428571]\n",
      " [ 0.33333333  0.04761905 -0.14285714]\n",
      " [ 0.16666667 -0.19047619  0.07142857]] \n",
      "\n"
     ]
    }
   ],
   "source": [
    "A = np.array([[1,2,3],[4,-2,3],[0,5,-1]], dtype=np.float64)\n",
    "B = np.array([[1,2,1],[2,1,-4],[3,-2,1]], dtype=np.float64)\n",
    "C = np.array([[1,2,3],[4,5,6],[-1,1,3]], dtype=np.float64)\n",
    "\n",
    "print('1.', 2*A - B, '\\n')\n",
    "print('2. AB = ', np.matmul(A,B), '\\n\\n BA = ', np.matmul(B,A), '\\n')\n",
    "print('3. (AB).Transpose = \\n', np.matmul(A,B).T, '\\n\\n (B.Transpose)(A.Transpose) = \\n', np.matmul(B.T,A.T), '\\n')\n",
    "print('4. |A| = ', round(np.linalg.det(A),2), 'and |C| = ', np.linalg.det(C), '\\n')\n",
    "print('5. For two vectors to be orthogonal, their dot product has to be equal to 0.\\n', \\\n",
    "     'For matrix A, row1 (dot) row2 = ', np.dot(A[0,:],A[1,:]), '\\n', \\\n",
    "     'row1 (dot) row3 = ', np.dot(A[0,:],A[2,:]), '\\n', \\\n",
    "     'row2 (dot) row3 = ', np.dot(A[1,:],A[2,:]), '\\n\\n', \\\n",
    "     'For matrix B, row1 (dot) row2 = ', np.dot(B[0,:],B[1,:]), '\\n', \\\n",
    "     'row1 (dot) row3 = ', np.dot(B[0,:],B[2,:]), '\\n', \\\n",
    "     'row2 (dot) row3 = ', np.dot(B[1,:],B[2,:]), '\\n\\n', \\\n",
    "     'For matrix C, row1 (dot) row2 = ', np.dot(C[0,:],C[1,:]), '\\n', \\\n",
    "     'row1 (dot) row3 = ', np.dot(C[0,:],C[2,:]), '\\n', \\\n",
    "     'row2 (dot) row3 = ', np.dot(C[1,:],C[2,:]), '\\n\\n', \\\n",
    "     'Here, the rows of ONLY matrix B are orthogonal to each other.\\n')\n",
    "print('6. A^(-1) = \\n', np.linalg.inv(A), '\\n\\nB^(-1) = \\n', np.linalg.inv(B), '\\n')"
   ]
  },
  {
   "cell_type": "markdown",
   "metadata": {},
   "source": [
    "## Question C Solution"
   ]
  },
  {
   "cell_type": "code",
   "execution_count": 64,
   "metadata": {},
   "outputs": [
    {
     "name": "stdout",
     "output_type": "stream",
     "text": [
      "1. Eigen values of D =  [-1.  4.] \n",
      "And Corresponding normalized unit Eigen vectors =  [-0.70710678 -0.5547002 ] and  [ 0.70710678 -0.83205029] \n",
      "\n",
      "2. Dot product between Eigen vectors of D =  -0.038461538461538214 \n",
      "\n",
      "3. Dot product between Eigen vectors of E =  0.0 \n",
      "\n"
     ]
    }
   ],
   "source": [
    "D = np.array([[1,2],[3,2]], dtype=np.float64)\n",
    "E = np.array([[2,-2],[-2,5]], dtype=np.float64)\n",
    "F = np.array([[1,2],[2,4]], dtype=np.float64)\n",
    "\n",
    "ans1 = np.linalg.eig(D)\n",
    "ans3 = np.linalg.eig(E)\n",
    "\n",
    "print('1. Eigen values of D = ', ans1[0], '\\nAnd Corresponding normalized unit Eigen vectors = ', \\\n",
    "      ans1[1][0], 'and ', ans1[1][1],'\\n')\n",
    "print('2. Dot product between Eigen vectors of D = ', ans1[1][0].dot(ans1[1][1]), '\\n')\n",
    "print('3. Dot product between Eigen vectors of E = ', ans3[1][0].dot(ans3[1][1]), '\\n')\n"
   ]
  },
  {
   "cell_type": "code",
   "execution_count": null,
   "metadata": {},
   "outputs": [],
   "source": []
  }
 ],
 "metadata": {
  "kernelspec": {
   "display_name": "Python 3 (ipykernel)",
   "language": "python",
   "name": "python3"
  },
  "language_info": {
   "codemirror_mode": {
    "name": "ipython",
    "version": 3
   },
   "file_extension": ".py",
   "mimetype": "text/x-python",
   "name": "python",
   "nbconvert_exporter": "python",
   "pygments_lexer": "ipython3",
   "version": "3.9.7"
  }
 },
 "nbformat": 4,
 "nbformat_minor": 2
}
