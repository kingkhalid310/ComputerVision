{
 "cells": [
  {
   "cell_type": "code",
   "execution_count": 1,
   "metadata": {},
   "outputs": [],
   "source": [
    "import math\n",
    "import numpy as np\n",
    "import time\n",
    "import cv2\n",
    "import cython\n",
    "from matplotlib import pyplot as plt\n",
    "import matplotlib.image as mpimg\n",
    "\n",
    "\n",
    "from scipy import ndimage as ndi\n",
    "from subprocess import call\n",
    "import cython_smoothing_ks"
   ]
  },
  {
   "cell_type": "code",
   "execution_count": 2,
   "metadata": {},
   "outputs": [
    {
     "name": "stdout",
     "output_type": "stream",
     "text": [
      "(892, 1000, 3)\n"
     ]
    }
   ],
   "source": [
    "#Inputing Images\n",
    "input_image_path = \"/Users/khalidsaifullah/Desktop/CS512/AS2/data/Image2.jpeg\"\n",
    "# input_image_path = \"/Users/khalidsaifullah/Desktop/CS512/AS2/data/Image3.png\"\n",
    "\n",
    "original_image = cv2.imread(input_image_path, cv2.IMREAD_COLOR)\n",
    "print(original_image.shape)"
   ]
  },
  {
   "cell_type": "code",
   "execution_count": 3,
   "metadata": {},
   "outputs": [
    {
     "data": {
      "text/plain": [
       "-1"
      ]
     },
     "execution_count": 3,
     "metadata": {},
     "output_type": "execute_result"
    }
   ],
   "source": [
    "###Problem 1###\n",
    "\n",
    "#Processing Images\n",
    "original_image = cv2.cvtColor(original_image, cv2.COLOR_BGR2GRAY)\n",
    "\n",
    "windowName = \"Drek\"\n",
    "trackbar_name = \"Handler\"\n",
    "smoothing_kernel = np.array([[1, 2, 1],[2, 4, 2],[1, 2, 1]], dtype=float) / 16\n",
    "max_smoothing_amount = 100\n",
    "\n",
    "def smoothing_builtin(smoothing_amount):\n",
    "    global original_image, processed_image1\n",
    "    processed_image1 = original_image.copy()\n",
    "    for i in range(smoothing_amount):\n",
    "        processed_image1 = cv2.filter2D(src=processed_image1, ddepth=-1, kernel=smoothing_kernel)            \n",
    "    cv2.imshow(windowName, processed_image1)\n",
    "\n",
    "\n",
    "cv2.namedWindow(windowName)\n",
    "cv2.createTrackbar(trackbar_name, windowName, 0, max_smoothing_amount, smoothing_builtin)\n",
    "smoothing_builtin(0) #Calling the smoothing function\n",
    "\n",
    "#Figure Delete\n",
    "cv2.waitKey(0)\n",
    "cv2.destroyWindow(windowName)\n",
    "cv2.waitKey(1)"
   ]
  },
  {
   "cell_type": "code",
   "execution_count": null,
   "metadata": {},
   "outputs": [],
   "source": [
    "###Problem 2### Error\n",
    "\n",
    "#Processing Images\n",
    "original_image = cv2.imread(input_image_path, cv2.IMREAD_COLOR)\n",
    "processed_image2 = cv2.cvtColor(original_image, cv2.COLOR_BGR2GRAY)\n",
    "# processed_image2 = processed_image2.astype(np.int32)\n",
    "\n",
    "windowName = \"Drek\"\n",
    "trackbar_name = \"Handler\"\n",
    "smoothing_kernel = np.array([[1, 2, 1],[2, 4, 2],[1, 2, 1]], dtype=float) / 16\n",
    "max_smoothing_amount = 100\n",
    "\n",
    "def smoothing_cython(smoothing_amount):\n",
    "    global original_image, processed_image2\n",
    "    processed_image2 = original_image.copy()\n",
    "    for i in range(smoothing_amount):\n",
    "        processed_image2 =  cython_smoothing_ks.ks_apply_convolution(processed_image2, smoothing_kernel)            \n",
    "    cv2.imshow(windowName, processed_image2)\n",
    "    \n",
    "    \n",
    "\n",
    "cv2.imshow(windowName, processed_image2)\n",
    "\n",
    "# cv2.namedWindow(windowName)\n",
    "cv2.createTrackbar(trackbar_name, windowName, 0, max_smoothing_amount, smoothing_cython)\n",
    "# smoothing_cython(0) #Calling the smoothing function\n",
    "\n",
    "#Figure Delete\n",
    "cv2.waitKey(0)\n",
    "cv2.destroyWindow(windowName)\n",
    "cv2.waitKey(1)"
   ]
  },
  {
   "cell_type": "code",
   "execution_count": 4,
   "metadata": {},
   "outputs": [
    {
     "data": {
      "text/plain": [
       "-1"
      ]
     },
     "execution_count": 4,
     "metadata": {},
     "output_type": "execute_result"
    }
   ],
   "source": [
    "###Problem 3###\n",
    "\n",
    "#Processing Images\n",
    "scale = 0.5\n",
    "width = int(original_image.shape[1] * scale)\n",
    "height = int(original_image.shape[0] * scale)\n",
    "dim = (width, height)\n",
    "\n",
    "windowName = \"Drek\"\n",
    "smoothing_kernel = np.array([[1, 2, 1],[2, 4, 2],[1, 2, 1]], dtype=float) / 16\n",
    "# resize image\n",
    "processed_image3 = original_image.copy()\n",
    "processed_image3 = cv2.filter2D(src=processed_image3, ddepth=-1, kernel=smoothing_kernel)\n",
    "processed_image3 = cv2.resize(original_image, dim, interpolation = cv2.INTER_AREA)\n",
    "\n",
    "# print('Resized Dimensions : ',processed_image3.shape)\n",
    "\n",
    "\n",
    "cv2.imshow(windowName, processed_image3)\n",
    "\n",
    "#Figure Delete\n",
    "cv2.waitKey(0)\n",
    "cv2.destroyWindow(windowName)\n",
    "cv2.waitKey(1)"
   ]
  },
  {
   "cell_type": "code",
   "execution_count": 5,
   "metadata": {},
   "outputs": [
    {
     "data": {
      "text/plain": [
       "-1"
      ]
     },
     "execution_count": 5,
     "metadata": {},
     "output_type": "execute_result"
    }
   ],
   "source": [
    "###Problem 4###\n",
    "\n",
    "#Processing Images\n",
    "scale = 2.0\n",
    "width = int(processed_image3.shape[1] * scale)\n",
    "height = int(processed_image3.shape[0] * scale)\n",
    "dim = (width, height)\n",
    "\n",
    "windowName = \"Drek\"\n",
    "smoothing_kernel = np.array([[1, 2, 1],[2, 4, 2],[1, 2, 1]], dtype=float) / 16\n",
    "# resize image\n",
    "processed_image4 = cv2.resize(processed_image3, dim, interpolation = cv2.INTER_AREA)\n",
    "processed_image4 = cv2.filter2D(src=processed_image4, ddepth=-1, kernel=smoothing_kernel)\n",
    "\n",
    "\n",
    "# print('Resized Dimensions : ',processed_image4.shape)\n",
    "\n",
    "\n",
    "cv2.imshow(windowName, processed_image3)\n",
    "\n",
    "#Figure Delete\n",
    "cv2.waitKey(0)\n",
    "cv2.destroyWindow(windowName)\n",
    "cv2.waitKey(1)"
   ]
  },
  {
   "cell_type": "code",
   "execution_count": 6,
   "metadata": {},
   "outputs": [
    {
     "name": "stdout",
     "output_type": "stream",
     "text": [
      "(892, 1000)\n",
      "(446, 500)\n",
      "(892, 1000)\n"
     ]
    }
   ],
   "source": [
    "print(processed_image1.shape)\n",
    "# print(processed_image2.shape)\n",
    "print(processed_image3.shape)\n",
    "print(processed_image4.shape)"
   ]
  },
  {
   "cell_type": "code",
   "execution_count": null,
   "metadata": {},
   "outputs": [],
   "source": [
    "diff = cv2.subtract(processed_image1, processed_image4)\n",
    "\n",
    "processed_image4 = cv2.normalize(diff, diff, 0, 255, cv2.NORM_MINMAX)\n",
    "\n",
    "cv2.imshow(windowName, processed_image4)\n",
    "\n",
    "#Figure Delete\n",
    "cv2.waitKey(0)\n",
    "cv2.destroyWindow(windowName)\n",
    "cv2.waitKey(1)"
   ]
  },
  {
   "cell_type": "code",
   "execution_count": 13,
   "metadata": {},
   "outputs": [
    {
     "data": {
      "text/plain": [
       "-1"
      ]
     },
     "execution_count": 13,
     "metadata": {},
     "output_type": "execute_result"
    }
   ],
   "source": [
    "###Problem 5###\n",
    "\n",
    "original_image = cv2.cvtColor(original_image, cv2.COLOR_BGR2GRAY)\n",
    "processed_image5 = original_image.copy()\n",
    "\n",
    "edgesx = cv2.Sobel(processed_image5, -1, dx=1, dy=0, ksize=3)\n",
    "edgesy = cv2.Sobel(processed_image5, -1, dx=0, dy=1, ksize=3)\n",
    "\n",
    "\n",
    "cv2.imshow(windowName, cv2.normalize(edgesx, edgesx, 0, 255, cv2.NORM_MINMAX))\n",
    "#Figure Delete\n",
    "cv2.waitKey(0)\n",
    "cv2.destroyWindow(windowName)\n",
    "cv2.waitKey(1)\n",
    "\n",
    "\n",
    "cv2.imshow(windowName, cv2.normalize(edgesy, edgesy, 0, 255, cv2.NORM_MINMAX))\n",
    "#Figure Delete\n",
    "cv2.waitKey(0)\n",
    "cv2.destroyWindow(windowName)\n",
    "cv2.waitKey(1)"
   ]
  },
  {
   "cell_type": "code",
   "execution_count": 14,
   "metadata": {},
   "outputs": [
    {
     "data": {
      "text/plain": [
       "-1"
      ]
     },
     "execution_count": 14,
     "metadata": {},
     "output_type": "execute_result"
    }
   ],
   "source": [
    "###Problem 6###\n",
    "\n",
    "edges = edgesx + edgesy\n",
    "\n",
    "cv2.imshow(windowName, cv2.normalize(edges, edges, 0, 255, cv2.NORM_MINMAX))\n",
    "\n",
    "#Figure Delete\n",
    "cv2.waitKey(0)\n",
    "cv2.destroyWindow(windowName)\n",
    "cv2.waitKey(1)"
   ]
  },
  {
   "cell_type": "code",
   "execution_count": 17,
   "metadata": {},
   "outputs": [
    {
     "data": {
      "text/plain": [
       "-1"
      ]
     },
     "execution_count": 17,
     "metadata": {},
     "output_type": "execute_result"
    }
   ],
   "source": [
    "# ###Problem 7###\n",
    "max_pixels_interval = 50\n",
    "vector_length = 10 #K, change this to change the length of the vectors\n",
    "\n",
    "original_image = cv2.imread(input_image_path, cv2.IMREAD_COLOR)\n",
    "\n",
    "def grad_vector(pixels_interval):\n",
    "    global original_image, processed_image7, vector_length\n",
    "    grad_vector_image = original_image.copy() #cv2.cvtColor(original_image, cv2.COLOR_BGR2GRAY)\n",
    "    \n",
    "    gradient_x = edgesx\n",
    "    gradient_y = edgesy\n",
    "    mag_gradient = edges\n",
    "\n",
    "    for row in range(0, grad_vector_image.shape[0], pixels_interval):\n",
    "        for col in range(0, grad_vector_image.shape[1], pixels_interval):\n",
    "            g_x = gradient_x[row][col]\n",
    "            g_y = gradient_y[row][col]\n",
    "            m_g = mag_gradient[row][col]\n",
    "            \n",
    "            if m_g > 0:\n",
    "                angle = None\n",
    "                \n",
    "                if g_y:\n",
    "                    angle = math.atan(g_x / g_y)\n",
    "        \n",
    "                else:\n",
    "                    angle = 90 * math.pi / 180.0\n",
    "                if angle:\n",
    "                    \n",
    "                    vec_x = row + vector_length * math.cos(angle)\n",
    "                    vec_y = col + vector_length * math.sin(angle)\n",
    "\n",
    "                    vec_x = int(vec_x)\n",
    "                    vec_y = int(vec_y)\n",
    "                    \n",
    "\n",
    "                    cv2.arrowedLine(grad_vector_image, (col, row), (vec_y, vec_x), (0,0,255), 1)\n",
    "    cv2.imshow(windowName, grad_vector_image)\n",
    "    \n",
    "\n",
    "    \n",
    "cv2.imshow(windowName, original_image)\n",
    "cv2.createTrackbar(trackbar_name, windowName, 20, max_pixels_interval, grad_vector)\n",
    "\n",
    "\n",
    "#Figure Delete\n",
    "cv2.waitKey(0)\n",
    "cv2.destroyWindow(windowName)\n",
    "cv2.waitKey(1)"
   ]
  },
  {
   "cell_type": "code",
   "execution_count": 18,
   "metadata": {},
   "outputs": [
    {
     "data": {
      "text/plain": [
       "-1"
      ]
     },
     "execution_count": 18,
     "metadata": {},
     "output_type": "execute_result"
    }
   ],
   "source": [
    "###Problem 8###\n",
    "\n",
    "corner_harris_threshold = 100\n",
    "\n",
    "def cornerHarris_opencv(threshold):\n",
    "    global original_image\n",
    "    processed_image8 = original_image.copy()\n",
    "    gray = cv2.cvtColor(processed_image8,cv2.COLOR_BGR2GRAY)\n",
    "    gray = np.float32(gray)\n",
    "    dst = cv2.cornerHarris(gray,2,3,0.04)\n",
    "    dst = cv2.dilate(dst,None)\n",
    "    processed_image8[dst>threshold*0.0001*dst.max()]=[0,0,255]\n",
    "    cv2.imshow(windowName, processed_image8)\n",
    "    \n",
    "cv2.imshow(windowName, original_image)\n",
    "cv2.createTrackbar(trackbar_name, windowName, 0, corner_harris_threshold, cornerHarris_opencv)\n",
    "cornerHarris_opencv(2)\n",
    "    \n",
    "#Figure Delete\n",
    "cv2.waitKey(0)\n",
    "cv2.destroyWindow(windowName)\n",
    "cv2.waitKey(1)"
   ]
  },
  {
   "cell_type": "code",
   "execution_count": 21,
   "metadata": {},
   "outputs": [
    {
     "data": {
      "text/plain": [
       "-1"
      ]
     },
     "execution_count": 21,
     "metadata": {},
     "output_type": "execute_result"
    }
   ],
   "source": [
    "###Problem 9###\n",
    "\n",
    "def cornerHarris_custom(num_points):\n",
    "    global original_image, processed_image9\n",
    "    I_x = edgesx\n",
    "    I_y = edgesy\n",
    "    Ixx = ndi.gaussian_filter(I_x**2, sigma=1)\n",
    "    Ixy = ndi.gaussian_filter(I_y*I_x, sigma=1)\n",
    "    Iyy = ndi.gaussian_filter(I_y**2, sigma=1)\n",
    "    \n",
    "    detA = Ixx * Iyy - Ixy ** 2\n",
    "    # trace\n",
    "    traceA = Ixx + Iyy\n",
    "\n",
    "    harris_response = detA - 0.05 * traceA ** 2\n",
    "    \n",
    "    # Store the pixel co-ordinates and cornerness score for edges\n",
    "    cornerScores = list()\n",
    "    \n",
    "    for row in range(harris_response.shape[0]):\n",
    "        for col in range(harris_response.shape[1]):\n",
    "            if harris_response[row][col] > 0:\n",
    "                cornerScores.append((row, col, harris_response[row][col]))\n",
    "    \n",
    "    # Sort the pixels in decreasing order based on the value cornerness score\n",
    "    cornerScores.sort(key= lambda x : x[2], reverse=True)  \n",
    "\n",
    "    cornerScores_filtered = cornerScores[:num_points]  \n",
    "  \n",
    "    # k : Hyperparameter\n",
    "    # It sigfinies that we are suppressing 5 pixels in the vicinity of top pixels\n",
    "    k = 5\n",
    "\n",
    "  \n",
    "    for cornerScore in cornerScores_filtered:\n",
    "        #print(\"Corner Score:\",  cornerScore)\n",
    "        for row in range(cornerScore[0] - k, cornerScore[0] + k):\n",
    "            if row < 0 or row >= harris_response.shape[0] :\n",
    "                continue\n",
    "            for col in range(cornerScore[1] - k, cornerScore[1] + k):\n",
    "                if col < 0 or col >= harris_response.shape[1]:\n",
    "                    continue\n",
    "                \n",
    "                if (row, col, harris_response[row][col]) in cornerScores_filtered and row != cornerScore[0] and col != cornerScore[1]:\n",
    "                    cornerScores_filtered.remove((row, col, harris_response[row][col]))\n",
    "    \n",
    "    # Mark the top pixels in red\n",
    "    for cornerScore in cornerScores_filtered:\n",
    "        original_image[cornerScore[0]][cornerScore[1]] =  [0,0,255]  \n",
    "            \n",
    "       \n",
    "    cv2.imshow(windowName, original_image) \n",
    " \n",
    "\n",
    "\n",
    "\n",
    "cv2.imshow(windowName, original_image)\n",
    "cv2.createTrackbar(trackbar_name, windowName, 10, 100, cornerHarris_custom)\n",
    "cornerHarris_custom(30)\n",
    "\n",
    "\n",
    "#Figure Delete\n",
    "cv2.waitKey(0)\n",
    "cv2.destroyWindow(windowName)\n",
    "cv2.waitKey(1)"
   ]
  },
  {
   "cell_type": "code",
   "execution_count": 22,
   "metadata": {},
   "outputs": [
    {
     "name": "stdout",
     "output_type": "stream",
     "text": [
      "Epoch 1/5\n",
      "469/469 [==============================] - 1s 2ms/step - loss: 0.4580 - accuracy: 0.8743\n",
      "Epoch 2/5\n",
      "469/469 [==============================] - 1s 2ms/step - loss: 0.1192 - accuracy: 0.9658\n",
      "Epoch 3/5\n",
      "469/469 [==============================] - 1s 2ms/step - loss: 0.0721 - accuracy: 0.9797\n",
      "Epoch 4/5\n",
      "469/469 [==============================] - 1s 2ms/step - loss: 0.0500 - accuracy: 0.9852\n",
      "Epoch 5/5\n",
      "469/469 [==============================] - 1s 2ms/step - loss: 0.0369 - accuracy: 0.9892\n",
      "313/313 [==============================] - 0s 603us/step - loss: 0.0738 - accuracy: 0.9780\n",
      "Test loss: 0.07383185625076294\n",
      "Test accuracy: 0.9779999852180481\n",
      "Epoch 1/5\n",
      "469/469 [==============================] - 1s 2ms/step - loss: 0.6754 - accuracy: 0.7746\n",
      "Epoch 2/5\n",
      "469/469 [==============================] - 1s 2ms/step - loss: 0.4955 - accuracy: 0.8343\n",
      "Epoch 3/5\n",
      "469/469 [==============================] - 1s 2ms/step - loss: 0.4359 - accuracy: 0.8567\n",
      "Epoch 4/5\n",
      "469/469 [==============================] - 1s 2ms/step - loss: 0.3924 - accuracy: 0.8692\n",
      "Epoch 5/5\n",
      "469/469 [==============================] - 1s 2ms/step - loss: 0.3586 - accuracy: 0.8815\n",
      "313/313 [==============================] - 0s 570us/step - loss: 0.4365 - accuracy: 0.8552\n",
      "Test loss: 0.4365106523036957\n",
      "Test accuracy: 0.8551999926567078\n",
      "Epoch 1/5\n",
      "469/469 [==============================] - 1s 2ms/step - loss: 0.8181 - accuracy: 0.7087\n",
      "Epoch 2/5\n",
      "469/469 [==============================] - 1s 2ms/step - loss: 0.7763 - accuracy: 0.7247\n",
      "Epoch 3/5\n",
      "469/469 [==============================] - 1s 2ms/step - loss: 0.7497 - accuracy: 0.7350\n",
      "Epoch 4/5\n",
      "469/469 [==============================] - 1s 2ms/step - loss: 0.7245 - accuracy: 0.7432\n",
      "Epoch 5/5\n",
      "469/469 [==============================] - 1s 2ms/step - loss: 0.7029 - accuracy: 0.7520\n",
      "313/313 [==============================] - 0s 539us/step - loss: 0.9277 - accuracy: 0.6772\n",
      "Test loss: 0.9277305603027344\n",
      "Test accuracy: 0.6772000193595886\n",
      "Epoch 1/5\n",
      "469/469 [==============================] - 1s 2ms/step - loss: 1.0256 - accuracy: 0.6219\n",
      "Epoch 2/5\n",
      "469/469 [==============================] - 1s 2ms/step - loss: 0.9902 - accuracy: 0.6350\n",
      "Epoch 3/5\n",
      "469/469 [==============================] - 1s 1ms/step - loss: 0.9817 - accuracy: 0.6371\n",
      "Epoch 4/5\n",
      "469/469 [==============================] - 1s 1ms/step - loss: 0.9657 - accuracy: 0.6432\n",
      "Epoch 5/5\n",
      "469/469 [==============================] - 1s 2ms/step - loss: 0.9518 - accuracy: 0.6483\n",
      "313/313 [==============================] - 0s 541us/step - loss: 1.1452 - accuracy: 0.5892\n",
      "Test loss: 1.1452316045761108\n",
      "Test accuracy: 0.5892000198364258\n",
      "Epoch 1/5\n",
      "469/469 [==============================] - 1s 2ms/step - loss: 1.1804 - accuracy: 0.5564\n",
      "Epoch 2/5\n",
      "469/469 [==============================] - 1s 2ms/step - loss: 1.1470 - accuracy: 0.5678\n",
      "Epoch 3/5\n",
      "469/469 [==============================] - 1s 2ms/step - loss: 1.1460 - accuracy: 0.5707\n",
      "Epoch 4/5\n",
      "469/469 [==============================] - 1s 2ms/step - loss: 1.1331 - accuracy: 0.5719\n",
      "Epoch 5/5\n",
      "469/469 [==============================] - 1s 2ms/step - loss: 1.1224 - accuracy: 0.5761\n",
      "313/313 [==============================] - 0s 558us/step - loss: 1.3235 - accuracy: 0.5240\n",
      "Test loss: 1.323504090309143\n",
      "Test accuracy: 0.5239999890327454\n"
     ]
    },
    {
     "data": {
      "text/plain": [
       "Text(0, 0.5, 'Accuracy (%)')"
      ]
     },
     "execution_count": 22,
     "metadata": {},
     "output_type": "execute_result"
    },
    {
     "data": {
      "image/png": "[encoded data removed]",
      "text/plain": [
       "<Figure size 432x288 with 1 Axes>"
      ]
     },
     "metadata": {
      "needs_background": "light"
     },
     "output_type": "display_data"
    }
   ],
   "source": [
    "###Problem 10###\n",
    "\n",
    "from keras.datasets import mnist\n",
    "from keras.models import Sequential\n",
    "from keras.layers import Dense, Flatten\n",
    "from keras.utils import to_categorical\n",
    "\n",
    "smoothing_kernel = np.array([[1, 2, 1],[2, 4, 2],[1, 2, 1]], dtype=float) / 16\n",
    "\n",
    "\n",
    "# Load the MNIST dataset\n",
    "(X_train, y_train), (X_test, y_test) = mnist.load_data()\n",
    "\n",
    "# Preprocess the data\n",
    "X_train = X_train.reshape(60000, 28 * 28)\n",
    "X_test = X_test.reshape(10000, 28 * 28)\n",
    "X_train = X_train.astype('float32')\n",
    "X_test = X_test.astype('float32')\n",
    "X_train /= 255\n",
    "X_test /= 255\n",
    "\n",
    "saved_results = []\n",
    "###Smoothing 5 times\n",
    "for i in range(5): #Change the value here for different no. of smoothing times\n",
    "\n",
    "    if i == 0:\n",
    "        y_train = to_categorical(y_train, 10)\n",
    "        y_test = to_categorical(y_test, 10)\n",
    "\n",
    "        # Define the model\n",
    "        model = Sequential()\n",
    "        model.add(Dense(512, activation='relu', input_shape=(28 * 28,)))\n",
    "        model.add(Dense(10, activation='softmax'))\n",
    "\n",
    "\n",
    "\n",
    "    # Evaluate the model on the test set\n",
    "    # Compile the model\n",
    "    model.compile(loss='categorical_crossentropy', optimizer='adam', metrics=['accuracy'])\n",
    "\n",
    "    # Train the model\n",
    "    model.fit(X_train, y_train, epochs=5, batch_size=128)\n",
    "\n",
    "    test_loss, test_accuracy = model.evaluate(X_test, y_test)\n",
    "    saved_results = np.append(saved_results, test_accuracy)\n",
    "    print('Test loss:', test_loss)\n",
    "    print('Test accuracy:', test_accuracy)\n",
    "\n",
    "    X_train = cv2.filter2D(src=X_train, ddepth=-1, kernel=smoothing_kernel)\n",
    "    X_test = cv2.filter2D(src=X_test, ddepth=-1, kernel=smoothing_kernel)\n",
    "\n",
    "\n",
    "\n",
    "plt.plot(range(1,6), saved_results*100)\n",
    "plt.xticks(range(1,6))\n",
    "plt.grid(color = 'green', linestyle = '--', linewidth = 0.25)\n",
    "plt.title('Accuracy on smoothed original image')\n",
    "plt.xlabel('Smoothing iteration number')\n",
    "plt.ylabel('Accuracy (%)')\n",
    "\n"
   ]
  },
  {
   "cell_type": "code",
   "execution_count": 23,
   "metadata": {},
   "outputs": [
    {
     "name": "stdout",
     "output_type": "stream",
     "text": [
      "Epoch 1/5\n",
      "469/469 [==============================] - 1s 2ms/step - loss: 1.7843 - accuracy: 0.3854\n",
      "Epoch 2/5\n",
      "469/469 [==============================] - 1s 2ms/step - loss: 1.3966 - accuracy: 0.5326\n",
      "Epoch 3/5\n",
      "469/469 [==============================] - 1s 2ms/step - loss: 1.2315 - accuracy: 0.5881\n",
      "Epoch 4/5\n",
      "469/469 [==============================] - 1s 2ms/step - loss: 1.1206 - accuracy: 0.6293\n",
      "Epoch 5/5\n",
      "469/469 [==============================] - 1s 2ms/step - loss: 1.0194 - accuracy: 0.6590\n",
      "313/313 [==============================] - 0s 534us/step - loss: 1.3456 - accuracy: 0.5561\n",
      "Test loss: 1.3455833196640015\n",
      "Test accuracy: 0.5561000108718872\n",
      "Epoch 1/5\n",
      "469/469 [==============================] - 1s 2ms/step - loss: 1.1558 - accuracy: 0.6105\n",
      "Epoch 2/5\n",
      "469/469 [==============================] - 1s 2ms/step - loss: 1.0431 - accuracy: 0.6470\n",
      "Epoch 3/5\n",
      "469/469 [==============================] - 1s 2ms/step - loss: 0.9801 - accuracy: 0.6701\n",
      "Epoch 4/5\n",
      "469/469 [==============================] - 1s 2ms/step - loss: 0.9169 - accuracy: 0.6934\n",
      "Epoch 5/5\n",
      "469/469 [==============================] - 1s 2ms/step - loss: 0.8650 - accuracy: 0.7107\n",
      "313/313 [==============================] - 0s 548us/step - loss: 1.5235 - accuracy: 0.5234\n",
      "Test loss: 1.5235220193862915\n",
      "Test accuracy: 0.5234000086784363\n",
      "Epoch 1/5\n",
      "469/469 [==============================] - 1s 2ms/step - loss: 1.0794 - accuracy: 0.6269\n",
      "Epoch 2/5\n",
      "469/469 [==============================] - 1s 2ms/step - loss: 0.9930 - accuracy: 0.6594\n",
      "Epoch 3/5\n",
      "469/469 [==============================] - 1s 2ms/step - loss: 0.9582 - accuracy: 0.6715\n",
      "Epoch 4/5\n",
      "469/469 [==============================] - 1s 2ms/step - loss: 0.9164 - accuracy: 0.6858\n",
      "Epoch 5/5\n",
      "469/469 [==============================] - 1s 2ms/step - loss: 0.8932 - accuracy: 0.6908\n",
      "313/313 [==============================] - 0s 561us/step - loss: 1.6668 - accuracy: 0.4792\n",
      "Test loss: 1.6667970418930054\n",
      "Test accuracy: 0.47920000553131104\n",
      "Epoch 1/5\n",
      "469/469 [==============================] - 1s 2ms/step - loss: 1.0993 - accuracy: 0.6106\n",
      "Epoch 2/5\n",
      "469/469 [==============================] - 1s 2ms/step - loss: 1.0330 - accuracy: 0.6372\n",
      "Epoch 3/5\n",
      "469/469 [==============================] - 1s 2ms/step - loss: 1.0092 - accuracy: 0.6433\n",
      "Epoch 4/5\n",
      "469/469 [==============================] - 1s 2ms/step - loss: 0.9786 - accuracy: 0.6552\n",
      "Epoch 5/5\n",
      "469/469 [==============================] - 1s 2ms/step - loss: 0.9458 - accuracy: 0.6670\n",
      "313/313 [==============================] - 0s 553us/step - loss: 1.7984 - accuracy: 0.4445\n",
      "Test loss: 1.7983564138412476\n",
      "Test accuracy: 0.44449999928474426\n",
      "Epoch 1/5\n",
      "469/469 [==============================] - 1s 2ms/step - loss: 1.1421 - accuracy: 0.5861\n",
      "Epoch 2/5\n",
      "469/469 [==============================] - 1s 2ms/step - loss: 1.0952 - accuracy: 0.6066\n",
      "Epoch 3/5\n",
      "469/469 [==============================] - 1s 2ms/step - loss: 1.0613 - accuracy: 0.6237\n",
      "Epoch 4/5\n",
      "469/469 [==============================] - 1s 2ms/step - loss: 1.0464 - accuracy: 0.6239\n",
      "Epoch 5/5\n",
      "469/469 [==============================] - 1s 2ms/step - loss: 1.0202 - accuracy: 0.6343\n",
      "313/313 [==============================] - 0s 555us/step - loss: 1.8883 - accuracy: 0.4112\n",
      "Test loss: 1.8883193731307983\n",
      "Test accuracy: 0.41119998693466187\n"
     ]
    },
    {
     "data": {
      "text/plain": [
       "Text(0, 0.5, 'Accuracy (%)')"
      ]
     },
     "execution_count": 23,
     "metadata": {},
     "output_type": "execute_result"
    },
    {
     "data": {
      "image/png": "[encoded data removed]",
      "text/plain": [
       "<Figure size 432x288 with 1 Axes>"
      ]
     },
     "metadata": {
      "needs_background": "light"
     },
     "output_type": "display_data"
    }
   ],
   "source": [
    "###Problem 10###\n",
    "\n",
    "from keras.datasets import mnist\n",
    "from keras.models import Sequential\n",
    "from keras.layers import Dense, Flatten\n",
    "from keras.utils import to_categorical\n",
    "\n",
    "smoothing_kernel = np.array([[1, 2, 1],[2, 4, 2],[1, 2, 1]], dtype=float) / 16\n",
    "\n",
    "\n",
    "# Load the MNIST dataset\n",
    "(X_train, y_train), (X_test, y_test) = mnist.load_data()\n",
    "\n",
    "# Preprocess the data\n",
    "X_train = X_train.reshape(60000, 28 * 28)\n",
    "X_test = X_test.reshape(10000, 28 * 28)\n",
    "X_train = X_train.astype('float32')\n",
    "X_test = X_test.astype('float32')\n",
    "X_train /= 255\n",
    "X_test /= 255\n",
    "\n",
    "saved_results = []\n",
    "###Smoothing\n",
    "\n",
    "\n",
    "X_train_origin = X_train\n",
    "X_test_origin = X_test\n",
    "\n",
    "\n",
    "for i in range(5):\n",
    "\n",
    "\n",
    "    X_train = cv2.filter2D(src=X_train_origin, ddepth=-1, kernel=smoothing_kernel)\n",
    "    X_test = cv2.filter2D(src=X_test_origin, ddepth=-1, kernel=smoothing_kernel)\n",
    "    X_train_origin = X_train\n",
    "    X_test_origin = X_test\n",
    "\n",
    "    edgesx = cv2.Sobel(X_train, -1, dx=1, dy=0, ksize=3)\n",
    "    edgesy = cv2.Sobel(X_train, -1, dx=0, dy=1, ksize=3)\n",
    "    edges = edgesx + edgesy\n",
    "    X_train = edges\n",
    "\n",
    "\n",
    "\n",
    "    edgesx = cv2.Sobel(X_test, -1, dx=1, dy=0, ksize=3)\n",
    "    edgesy = cv2.Sobel(X_test, -1, dx=0, dy=1, ksize=3)\n",
    "    edges = edgesx + edgesy\n",
    "    X_test = edges\n",
    "\n",
    "    if i == 0:\n",
    "        y_train = to_categorical(y_train, 10)\n",
    "        y_test = to_categorical(y_test, 10)\n",
    "\n",
    "        # Define the model\n",
    "        model = Sequential()\n",
    "        model.add(Dense(512, activation='relu', input_shape=(28 * 28,)))\n",
    "        model.add(Dense(10, activation='softmax'))\n",
    "\n",
    "\n",
    "\n",
    "    # Evaluate the model on the test set\n",
    "    # Compile the model\n",
    "    model.compile(loss='categorical_crossentropy', optimizer='adam', metrics=['accuracy'])\n",
    "\n",
    "    # Train the model\n",
    "    model.fit(X_train, y_train, epochs=5, batch_size=128)\n",
    "\n",
    "    test_loss, test_accuracy = model.evaluate(X_test, y_test)\n",
    "    saved_results = np.append(saved_results, test_accuracy)\n",
    "    print('Test loss:', test_loss)\n",
    "    print('Test accuracy:', test_accuracy)\n",
    "\n",
    "\n",
    "\n",
    "\n",
    "plt.plot(range(1,6), saved_results*100)\n",
    "plt.xticks(range(1,6))\n",
    "plt.grid(color = 'green', linestyle = '--', linewidth = 0.25)\n",
    "plt.title('Accuracy on magnitude gradient image')\n",
    "plt.xlabel('Smoothing iteration number')\n",
    "plt.ylabel('Accuracy (%)')\n",
    "\n",
    "\n"
   ]
  },
  {
   "cell_type": "code",
   "execution_count": null,
   "metadata": {},
   "outputs": [],
   "source": []
  }
 ],
 "metadata": {
  "kernelspec": {
   "display_name": "Python 3",
   "language": "python",
   "name": "python3"
  },
  "language_info": {
   "codemirror_mode": {
    "name": "ipython",
    "version": 3
   },
   "file_extension": ".py",
   "mimetype": "text/x-python",
   "name": "python",
   "nbconvert_exporter": "python",
   "pygments_lexer": "ipython3",
   "version": "3.8.5"
  }
 },
 "nbformat": 4,
 "nbformat_minor": 4
}
